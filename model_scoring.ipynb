{
 "cells": [
  {
   "cell_type": "code",
   "execution_count": 8,
   "metadata": {},
   "outputs": [],
   "source": [
    "import os\n",
    "import json\n",
    "\n",
    "import numpy as np\n",
    "import matplotlib.pyplot as plt"
   ]
  },
  {
   "cell_type": "code",
   "execution_count": 4,
   "metadata": {},
   "outputs": [],
   "source": [
    "plt.rc('font', size=16)"
   ]
  },
  {
   "cell_type": "code",
   "execution_count": 10,
   "metadata": {},
   "outputs": [],
   "source": [
    "SEED = 1443\n",
    "SCORING_BASEDIR = \"../dogo_results/mopo/model_scoring\""
   ]
  },
  {
   "cell_type": "code",
   "execution_count": 11,
   "metadata": {},
   "outputs": [],
   "source": [
    "def get_score(exp_base_dir, exp_dir, data, seed=SEED):\n",
    "    with open(os.path.join(SCORING_BASEDIR, exp_base_dir, exp_dir, f'{data}_{seed}.json')) as f:\n",
    "        return json.load(f)"
   ]
  },
  {
   "cell_type": "markdown",
   "metadata": {},
   "source": [
    "# MP0068-MP0069"
   ]
  },
  {
   "cell_type": "code",
   "execution_count": 19,
   "metadata": {},
   "outputs": [],
   "source": [
    "mp0068_d3rlpy_pep3      = get_score(\"halfcheetah_d3rlpy_pep3_101e3\", \"seed:1443_2022-05-25_13-42-2332hq9q4z\", \"D3RLPY-PEP3\")\n",
    "mp0068_d3rlpy_pep3_p0_2 = get_score(\"halfcheetah_d3rlpy_pep3_101e3\", \"seed:1443_2022-05-25_13-42-2332hq9q4z\", \"D3RLPY-PEP3-P0-2\")\n",
    "mp0068_d3rlpy_pep3_p3   = get_score(\"halfcheetah_d3rlpy_pep3_101e3\", \"seed:1443_2022-05-25_13-42-2332hq9q4z\", \"D3RLPY-PEP3-P3\")"
   ]
  },
  {
   "cell_type": "code",
   "execution_count": 20,
   "metadata": {},
   "outputs": [],
   "source": [
    "mp0069_d3rlpy_pep3      = get_score(\"halfcheetah_d3rlpy_pep3_101e3\", \"seed:1443_2022-05-25_13-42-23e1g5yr31\", \"D3RLPY-PEP3\")\n",
    "mp0069_d3rlpy_pep3_p0_2 = get_score(\"halfcheetah_d3rlpy_pep3_101e3\", \"seed:1443_2022-05-25_13-42-23e1g5yr31\", \"D3RLPY-PEP3-P0-2\")\n",
    "mp0069_d3rlpy_pep3_p3   = get_score(\"halfcheetah_d3rlpy_pep3_101e3\", \"seed:1443_2022-05-25_13-42-23e1g5yr31\", \"D3RLPY-PEP3-P3\")"
   ]
  },
  {
   "cell_type": "markdown",
   "metadata": {},
   "source": [
    "# MP0070-MP0071"
   ]
  },
  {
   "cell_type": "code",
   "execution_count": 21,
   "metadata": {},
   "outputs": [],
   "source": [
    "mp0070_d3rlpy_pep4      = get_score(\"halfcheetah_d3rlpy_pep4_101e3\", \"seed:1443_2022-05-26_13-18-09fdp445sm\", \"D3RLPY-PEP4\")\n",
    "mp0070_d3rlpy_pep4_p0_3 = get_score(\"halfcheetah_d3rlpy_pep4_101e3\", \"seed:1443_2022-05-26_13-18-09fdp445sm\", \"D3RLPY-PEP4-P0-3\")\n",
    "mp0070_d3rlpy_pep4_p3   = get_score(\"halfcheetah_d3rlpy_pep4_101e3\", \"seed:1443_2022-05-26_13-18-09fdp445sm\", \"D3RLPY-PEP4-P4\")"
   ]
  },
  {
   "cell_type": "code",
   "execution_count": 22,
   "metadata": {},
   "outputs": [],
   "source": [
    "mp0071_d3rlpy_pep4      = get_score(\"halfcheetah_d3rlpy_pep4_101e3\", \"seed:1443_2022-05-26_13-18-09lld5ol1u\", \"D3RLPY-PEP4\")\n",
    "mp0071_d3rlpy_pep4_p0_2 = get_score(\"halfcheetah_d3rlpy_pep4_101e3\", \"seed:1443_2022-05-26_13-18-09lld5ol1u\", \"D3RLPY-PEP4-P0-3\")\n",
    "mp0071_d3rlpy_pep4_p4   = get_score(\"halfcheetah_d3rlpy_pep4_101e3\", \"seed:1443_2022-05-26_13-18-09lld5ol1u\", \"D3RLPY-PEP4-P4\")"
   ]
  },
  {
   "cell_type": "code",
   "execution_count": null,
   "metadata": {},
   "outputs": [],
   "source": []
  }
 ],
 "metadata": {
  "interpreter": {
   "hash": "0762be2d7dad499f78b4ccc05029bbe082222b827c654f817432570f6c80b9f2"
  },
  "kernelspec": {
   "display_name": "Python 3.8.13",
   "language": "python",
   "name": "python3"
  },
  "language_info": {
   "codemirror_mode": {
    "name": "ipython",
    "version": 3
   },
   "file_extension": ".py",
   "mimetype": "text/x-python",
   "name": "python",
   "nbconvert_exporter": "python",
   "pygments_lexer": "ipython3",
   "version": "3.8.13"
  },
  "orig_nbformat": 4
 },
 "nbformat": 4,
 "nbformat_minor": 2
}
