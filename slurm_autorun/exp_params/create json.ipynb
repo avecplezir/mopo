{
 "cells": [
  {
   "cell_type": "code",
   "execution_count": 27,
   "metadata": {},
   "outputs": [],
   "source": [
    "import json\n",
    "from glob import glob"
   ]
  },
  {
   "cell_type": "code",
   "execution_count": 42,
   "metadata": {},
   "outputs": [],
   "source": [
    "# CONFIG = 'hopper_custom_rl' \n",
    "# DATASET = 'H-MIXED-RT-4'\n",
    "# model_dir_glob = \"/rds/project/rds-eWkDxBhxBrQ/dimorl/code/mopo/ray_mopo/Hopper_H-MIXED-RT-4/*/*\"\n",
    "# rollout_lengths = {1, 5, 50}\n",
    "\n",
    "# CONFIG = 'halfcheetah_custom_rl' \n",
    "# DATASET = 'MIXED-RT-1'\n",
    "# model_dir_glob = \"/rds/project/rds-eWkDxBhxBrQ/dimorl/code/mopo/ray_mopo/HalfCheetah_MIXED-RT-1/*/*\"\n",
    "# rollout_lengths = {5, 10} #{1, 5, 20}\n",
    "# mopo_penalty_coeffs = {0, 5}\n",
    "\n",
    "CONFIG = 'halfcheetah_custom_rl' \n",
    "DATASET = 'MIXED-RT-4'\n",
    "model_dir_glob = \"/rds/project/rds-eWkDxBhxBrQ/dimorl/code/mopo/ray_mopo/HalfCheetah_MIXED-RT-4/*/*\"\n",
    "rollout_lengths = {5, 10} #{1, 5, 20}\n",
    "mopo_penalty_coeffs = {0, 5}\n",
    "\n",
    "# CONFIG = 'walker2d_custom_rl' \n",
    "# DATASET = 'W-MIXED-RT-1' \n",
    "# model_dir_glob = \"/rds/project/rds-eWkDxBhxBrQ/dimorl/code/mopo/ray_mopo/Walker2d_W-MIXED-RT-1/*/*\"\n",
    "# rollout_lengths = {1, 5, 10}\n",
    "\n",
    "# mopo_penalty_coeffs = {0, 1, 5}\n",
    "seeds = {1, 2, 3}\n",
    "# seeds = {1,}"
   ]
  },
  {
   "cell_type": "code",
   "execution_count": 43,
   "metadata": {},
   "outputs": [
    {
     "data": {
      "text/plain": [
       "['/rds/project/rds-eWkDxBhxBrQ/dimorl/code/mopo/ray_mopo/HalfCheetah_MIXED-RT-4/rexb20/s6_2023-03-13_17-48-58siq4kjci',\n",
       " '/rds/project/rds-eWkDxBhxBrQ/dimorl/code/mopo/ray_mopo/HalfCheetah_MIXED-RT-4/rexmeandevb1/s6_2023-03-13_20-19-15s901ch1d',\n",
       " '/rds/project/rds-eWkDxBhxBrQ/dimorl/code/mopo/ray_mopo/HalfCheetah_MIXED-RT-4/rexmeandevb05/s6_2023-03-13_20-21-57f3szbqys',\n",
       " '/rds/project/rds-eWkDxBhxBrQ/dimorl/code/mopo/ray_mopo/HalfCheetah_MIXED-RT-4/rexmeandevb2/s6_2023-03-13_20-22-020x2n2tjy',\n",
       " '/rds/project/rds-eWkDxBhxBrQ/dimorl/code/mopo/ray_mopo/HalfCheetah_MIXED-RT-4/rexmeandevb01/s6_2023-03-13_20-19-17n0l3q868',\n",
       " '/rds/project/rds-eWkDxBhxBrQ/dimorl/code/mopo/ray_mopo/HalfCheetah_MIXED-RT-4/rexstdb1/s6_2023-03-13_17-48-58n5ev2zp0',\n",
       " '/rds/project/rds-eWkDxBhxBrQ/dimorl/code/mopo/ray_mopo/HalfCheetah_MIXED-RT-4/r5_stdb1/s2_2023-03-14_08-41-30t576j5s7',\n",
       " '/rds/project/rds-eWkDxBhxBrQ/dimorl/code/mopo/ray_mopo/HalfCheetah_MIXED-RT-4/rexb10/s6_2023-03-13_17-39-4375s5bvkt',\n",
       " '/rds/project/rds-eWkDxBhxBrQ/dimorl/code/mopo/ray_mopo/HalfCheetah_MIXED-RT-4/rexstdb05/s6_2023-03-13_17-49-1322qc5svy',\n",
       " '/rds/project/rds-eWkDxBhxBrQ/dimorl/code/mopo/ray_mopo/HalfCheetah_MIXED-RT-4/rexb5/s6_2023-03-13_17-48-58nh7rzm_0',\n",
       " '/rds/project/rds-eWkDxBhxBrQ/dimorl/code/mopo/ray_mopo/HalfCheetah_MIXED-RT-4/default/s6_2023-03-13_17-49-527gggp2s4',\n",
       " '/rds/project/rds-eWkDxBhxBrQ/dimorl/code/mopo/ray_mopo/HalfCheetah_MIXED-RT-4/rexstdb2/s6_2023-03-13_17-48-58htpcwh57',\n",
       " '/rds/project/rds-eWkDxBhxBrQ/dimorl/code/mopo/ray_mopo/HalfCheetah_MIXED-RT-4/rexmeandevb8/s6_2023-03-13_20-14-2001behrzj',\n",
       " '/rds/project/rds-eWkDxBhxBrQ/dimorl/code/mopo/ray_mopo/HalfCheetah_MIXED-RT-4/rexmeandevb8/s6_2023-03-13_20-09-01y1an7mp0',\n",
       " '/rds/project/rds-eWkDxBhxBrQ/dimorl/code/mopo/ray_mopo/HalfCheetah_MIXED-RT-4/rexmeandevb8/s7_2023-03-13_20-14-40jalar9dt']"
      ]
     },
     "execution_count": 43,
     "metadata": {},
     "output_type": "execute_result"
    }
   ],
   "source": [
    "dir_list = glob(model_dir_glob, recursive = True)\n",
    "\n",
    "def filter_dir(x):\n",
    "    last = x.split('/')[-1]\n",
    "    return last.startswith('s') \n",
    "\n",
    "with_s = list(filter(filter_dir, dir_list))\n",
    "with_s"
   ]
  },
  {
   "cell_type": "code",
   "execution_count": 44,
   "metadata": {},
   "outputs": [
    {
     "data": {
      "text/plain": [
       "['HalfCheetah_MIXED-RT-4/rexb20/s6_2023-03-13_17-48-58siq4kjci',\n",
       " 'HalfCheetah_MIXED-RT-4/rexmeandevb1/s6_2023-03-13_20-19-15s901ch1d',\n",
       " 'HalfCheetah_MIXED-RT-4/rexmeandevb05/s6_2023-03-13_20-21-57f3szbqys',\n",
       " 'HalfCheetah_MIXED-RT-4/rexmeandevb2/s6_2023-03-13_20-22-020x2n2tjy',\n",
       " 'HalfCheetah_MIXED-RT-4/rexmeandevb01/s6_2023-03-13_20-19-17n0l3q868',\n",
       " 'HalfCheetah_MIXED-RT-4/rexstdb1/s6_2023-03-13_17-48-58n5ev2zp0',\n",
       " 'HalfCheetah_MIXED-RT-4/r5_stdb1/s2_2023-03-14_08-41-30t576j5s7',\n",
       " 'HalfCheetah_MIXED-RT-4/rexb10/s6_2023-03-13_17-39-4375s5bvkt',\n",
       " 'HalfCheetah_MIXED-RT-4/rexstdb05/s6_2023-03-13_17-49-1322qc5svy',\n",
       " 'HalfCheetah_MIXED-RT-4/rexb5/s6_2023-03-13_17-48-58nh7rzm_0',\n",
       " 'HalfCheetah_MIXED-RT-4/default/s6_2023-03-13_17-49-527gggp2s4',\n",
       " 'HalfCheetah_MIXED-RT-4/rexstdb2/s6_2023-03-13_17-48-58htpcwh57',\n",
       " 'HalfCheetah_MIXED-RT-4/rexmeandevb8/s6_2023-03-13_20-14-2001behrzj',\n",
       " 'HalfCheetah_MIXED-RT-4/rexmeandevb8/s6_2023-03-13_20-09-01y1an7mp0',\n",
       " 'HalfCheetah_MIXED-RT-4/rexmeandevb8/s7_2023-03-13_20-14-40jalar9dt']"
      ]
     },
     "execution_count": 44,
     "metadata": {},
     "output_type": "execute_result"
    }
   ],
   "source": [
    "dir_list = glob(model_dir_glob, recursive = True)\n",
    "\n",
    "def filter_dir(x):\n",
    "    last = x.split('/')[-1]\n",
    "    return last.startswith('s') \n",
    "\n",
    "with_s = list(filter(filter_dir, dir_list))\n",
    "with_s = [\"/\".join(model_dir.split('/')[-3:])for model_dir in with_s]\n",
    "model_load_dirs = with_s\n",
    "with_s"
   ]
  },
  {
   "cell_type": "code",
   "execution_count": 45,
   "metadata": {},
   "outputs": [],
   "source": [
    "# model_load_dirs = [mld for mld in  model_load_dirs if '_5_' in mld]\n",
    "# model_load_dirs"
   ]
  },
  {
   "cell_type": "code",
   "execution_count": 46,
   "metadata": {},
   "outputs": [],
   "source": [
    "# model_load_dirs = ['HalfCheetah_MIXED-RT-5/default/s1_2023-03-06_11-13-45xh8hsuja']"
   ]
  },
  {
   "cell_type": "code",
   "execution_count": 47,
   "metadata": {},
   "outputs": [],
   "source": [
    "list_to_dump = []\n",
    "\n",
    "for mld in model_load_dirs:\n",
    "    bnn_name = mld.split('/')[-2]\n",
    "    bnn_seed = mld.split('/')[-1].split('_')[0]\n",
    "    for rl in rollout_lengths:\n",
    "        for mp in mopo_penalty_coeffs:\n",
    "            for seed in seeds:\n",
    "                exp_name = f'{bnn_name}{bnn_seed}_mp{mp}rl{rl}'\n",
    "                list_to_dump.append(dict(config=CONFIG, dataset=DATASET, rollout_length=rl, mopo_penalty_coeff=mp,\n",
    "                                    seed=seed, model_load_dir=mld, exp_name=exp_name)) \n",
    "\n",
    "with open(f\"{DATASET}_exp_params.json\", \"w\") as outfile:\n",
    "    json.dump(list_to_dump, outfile, indent=\"\")"
   ]
  },
  {
   "cell_type": "code",
   "execution_count": 48,
   "metadata": {},
   "outputs": [
    {
     "data": {
      "text/plain": [
       "'MIXED-RT-4_exp_params.json'"
      ]
     },
     "execution_count": 48,
     "metadata": {},
     "output_type": "execute_result"
    }
   ],
   "source": [
    "f\"{DATASET}_exp_params.json\""
   ]
  },
  {
   "cell_type": "code",
   "execution_count": null,
   "metadata": {},
   "outputs": [],
   "source": []
  }
 ],
 "metadata": {
  "kernelspec": {
   "display_name": "Python 3",
   "language": "python",
   "name": "python3"
  },
  "language_info": {
   "codemirror_mode": {
    "name": "ipython",
    "version": 3
   },
   "file_extension": ".py",
   "mimetype": "text/x-python",
   "name": "python",
   "nbconvert_exporter": "python",
   "pygments_lexer": "ipython3",
   "version": "3.6.5"
  }
 },
 "nbformat": 4,
 "nbformat_minor": 4
}
