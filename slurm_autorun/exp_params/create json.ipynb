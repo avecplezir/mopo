{
 "cells": [
  {
   "cell_type": "code",
   "execution_count": 19,
   "metadata": {},
   "outputs": [],
   "source": [
    "import json\n",
    "from glob import glob"
   ]
  },
  {
   "cell_type": "code",
   "execution_count": 72,
   "metadata": {},
   "outputs": [],
   "source": [
    "# CONFIG = 'hopper_custom_rl' \n",
    "# DATASET = 'H-MIXED-RT-4'\n",
    "# model_dir_glob = \"/rds/project/rds-eWkDxBhxBrQ/dimorl/code/mopo/ray_mopo/Hopper_H-MIXED-RT-4/*/*\"\n",
    "# rollout_lengths = {1, 5, 50}\n",
    "\n",
    "# CONFIG = 'halfcheetah_custom_rl' \n",
    "# DATASET = 'MIXED-RT-1'\n",
    "# model_dir_glob = \"/rds/project/rds-eWkDxBhxBrQ/dimorl/code/mopo/ray_mopo/HalfCheetah_MIXED-RT-1/*/*\"\n",
    "# rollout_lengths = {5, 10} #{1, 5, 20}\n",
    "# mopo_penalty_coeffs = {0, 5}\n",
    "\n",
    "# CONFIG = 'halfcheetah_custom_rl' \n",
    "# DATASET = 'MIXED-RT-4'\n",
    "# model_dir_glob = \"/rds/project/rds-eWkDxBhxBrQ/dimorl/code/mopo/ray_mopo/HalfCheetah_MIXED-RT-4/*/*\"\n",
    "# rollout_lengths = {10, } #{5, 10} #{1, 5, 20}\n",
    "# mopo_penalty_coeffs = {5,} #{0, 5}\n",
    "\n",
    "# CONFIG = 'walker2d_custom_rl' \n",
    "# DATASET = 'W-MIXED-RT-1' \n",
    "# model_dir_glob = \"/rds/project/rds-eWkDxBhxBrQ/dimorl/code/mopo/ray_mopo/Walker2d_W-MIXED-RT-1/*/*\"\n",
    "# rollout_lengths = {5, 10}\n",
    "# mopo_penalty_coeffs = {0, } #{0, 1}\n",
    "\n",
    "# CONFIG = 'walker2d_custom_rl' \n",
    "# DATASET = 'W-MIXED-RT-4' \n",
    "# model_dir_glob = \"/rds/project/rds-eWkDxBhxBrQ/dimorl/code/mopo/ray_mopo/Walker2d_W-MIXED-RT-4/*/*\"\n",
    "# rollout_lengths = {5, 10}\n",
    "# mopo_penalty_coeffs = {0, } #{0, 1}\n",
    "\n",
    "# CONFIG = 'walker2d_custom_rl' \n",
    "# DATASET = 'W-MIXED-RT-5' \n",
    "# model_dir_glob = \"/rds/project/rds-eWkDxBhxBrQ/dimorl/code/mopo/ray_mopo/Walker2d_W-MIXED-RT-5/*/*\"\n",
    "# rollout_lengths = {5, 10}\n",
    "# mopo_penalty_coeffs = {0, } #{0, 1}\n",
    "\n",
    "# CONFIG = 'humonoid_custom_rl' \n",
    "# DATASET = 'Humanoid-Novice-10' \n",
    "# model_dir_glob = \"/rds/project/rds-eWkDxBhxBrQ/dimorl/code/mopo/ray_mopo/Humanoid_Humanoid-Novice-10/*/*\"\n",
    "# rollout_lengths = {5, 10, 20}\n",
    "# mopo_penalty_coeffs = {0, 1, 5} #{0, 1}\n",
    "\n",
    "\n",
    "# CONFIG = 'walker2d_custom_rl' \n",
    "# DATASET = 'Walker-Mixed-Novice' \n",
    "# model_dir_glob = \"/rds/project/rds-eWkDxBhxBrQ/dimorl/code/mopo/ray_mopo/Walker2d_Walker-Mixed-Novice/*/*\"\n",
    "# rollout_lengths = {5, 10}\n",
    "# mopo_penalty_coeffs = {0, } #{0, 1}\n",
    "\n",
    "# CONFIG = 'walker2d_custom_rl' \n",
    "# DATASET = 'Walker-Mixed-Expert' \n",
    "# model_dir_glob = \"/rds/project/rds-eWkDxBhxBrQ/dimorl/code/mopo/ray_mopo/Walker2d_Walker-Mixed-Expert/*/*\"\n",
    "# rollout_lengths = {5, 10}\n",
    "# mopo_penalty_coeffs = {0, } #{0, 1}\n",
    "\n",
    "CONFIG = 'humanoid_custom_rl' \n",
    "DATASET = 'Humanoid-Mixed-Novice' \n",
    "model_dir_glob = \"/rds/project/rds-eWkDxBhxBrQ/dimorl/code/mopo/ray_mopo/Humanoid_Humanoid-Mixed-Novice/*/*\"\n",
    "rollout_lengths = {5, 10, 20}\n",
    "mopo_penalty_coeffs = {0, 1, 5} #{0, 1}\n",
    "\n",
    "# CONFIG = 'humanoid_custom_rl' \n",
    "# DATASET = 'Humanoid-Mixed-Expert' \n",
    "# model_dir_glob = \"/rds/project/rds-eWkDxBhxBrQ/dimorl/code/mopo/ray_mopo/Humanoid_Humanoid-Mixed-Expert/*/*\"\n",
    "# rollout_lengths = {5, 10, 20}\n",
    "# mopo_penalty_coeffs = {0, 1, 5} #{0, 1}\n",
    "\n",
    "\n",
    "seeds = {1,}\n",
    "# mopo_penalty_coeffs = {0, 1, 5}\n",
    "# seeds = {1, 2, 3}\n",
    "# seeds = {1,} "
   ]
  },
  {
   "cell_type": "code",
   "execution_count": 73,
   "metadata": {},
   "outputs": [
    {
     "data": {
      "text/plain": [
       "['/rds/project/rds-eWkDxBhxBrQ/dimorl/code/mopo/ray_mopo/Humanoid_Humanoid-Mixed-Novice/rexb20/s12_2023-04-12_22-36-022h8b0exm',\n",
       " '/rds/project/rds-eWkDxBhxBrQ/dimorl/code/mopo/ray_mopo/Humanoid_Humanoid-Mixed-Novice/rexb10-2048/s12_2023-04-13_11-32-35nar78keq',\n",
       " '/rds/project/rds-eWkDxBhxBrQ/dimorl/code/mopo/ray_mopo/Humanoid_Humanoid-Mixed-Novice/rexb5-2048/s12_2023-04-13_11-32-35e1yad6zc',\n",
       " '/rds/project/rds-eWkDxBhxBrQ/dimorl/code/mopo/ray_mopo/Humanoid_Humanoid-Mixed-Novice/default-2048/s12_2023-04-13_11-32-35sizc9185',\n",
       " '/rds/project/rds-eWkDxBhxBrQ/dimorl/code/mopo/ray_mopo/Humanoid_Humanoid-Mixed-Novice/rexb10/s12_2023-04-12_22-36-02hyc0zvs1',\n",
       " '/rds/project/rds-eWkDxBhxBrQ/dimorl/code/mopo/ray_mopo/Humanoid_Humanoid-Mixed-Novice/rexb5/s12_2023-04-12_22-36-020i2vex4w',\n",
       " '/rds/project/rds-eWkDxBhxBrQ/dimorl/code/mopo/ray_mopo/Humanoid_Humanoid-Mixed-Novice/default/s12_2023-04-12_22-36-02j67f4syl',\n",
       " '/rds/project/rds-eWkDxBhxBrQ/dimorl/code/mopo/ray_mopo/Humanoid_Humanoid-Mixed-Novice/rexb20-2048/s12_2023-04-13_11-32-359249o5yp']"
      ]
     },
     "execution_count": 73,
     "metadata": {},
     "output_type": "execute_result"
    }
   ],
   "source": [
    "dir_list = glob(model_dir_glob, recursive = True)\n",
    "\n",
    "def filter_dir(x):\n",
    "    last = x.split('/')[-1]\n",
    "    return last.startswith('s') \n",
    "\n",
    "with_s = list(filter(filter_dir, dir_list))\n",
    "with_s"
   ]
  },
  {
   "cell_type": "code",
   "execution_count": 74,
   "metadata": {},
   "outputs": [
    {
     "data": {
      "text/plain": [
       "['Humanoid_Humanoid-Mixed-Novice/rexb20/s12_2023-04-12_22-36-022h8b0exm',\n",
       " 'Humanoid_Humanoid-Mixed-Novice/rexb10-2048/s12_2023-04-13_11-32-35nar78keq',\n",
       " 'Humanoid_Humanoid-Mixed-Novice/rexb5-2048/s12_2023-04-13_11-32-35e1yad6zc',\n",
       " 'Humanoid_Humanoid-Mixed-Novice/default-2048/s12_2023-04-13_11-32-35sizc9185',\n",
       " 'Humanoid_Humanoid-Mixed-Novice/rexb10/s12_2023-04-12_22-36-02hyc0zvs1',\n",
       " 'Humanoid_Humanoid-Mixed-Novice/rexb5/s12_2023-04-12_22-36-020i2vex4w',\n",
       " 'Humanoid_Humanoid-Mixed-Novice/default/s12_2023-04-12_22-36-02j67f4syl',\n",
       " 'Humanoid_Humanoid-Mixed-Novice/rexb20-2048/s12_2023-04-13_11-32-359249o5yp']"
      ]
     },
     "execution_count": 74,
     "metadata": {},
     "output_type": "execute_result"
    }
   ],
   "source": [
    "dir_list = glob(model_dir_glob, recursive = True)\n",
    "\n",
    "def filter_dir(x):\n",
    "    last = x.split('/')[-1]\n",
    "    return last.startswith('s') \n",
    "\n",
    "with_s = list(filter(filter_dir, dir_list))\n",
    "with_s = [\"/\".join(model_dir.split('/')[-3:])for model_dir in with_s]\n",
    "model_load_dirs = with_s\n",
    "with_s"
   ]
  },
  {
   "cell_type": "code",
   "execution_count": 75,
   "metadata": {},
   "outputs": [],
   "source": [
    "model_load_dirs = [mld for mld in  model_load_dirs if '2048' in mld and 'default' in mld]\n",
    "# model_load_dirs = [mld for mld in  model_load_dirs if '/s6_' in mld and ('rp5_' in mld or 'rp_' in mld) and 'std' not in mld]\n",
    "# model_load_dirs"
   ]
  },
  {
   "cell_type": "code",
   "execution_count": 76,
   "metadata": {},
   "outputs": [
    {
     "data": {
      "text/plain": [
       "['Humanoid_Humanoid-Mixed-Novice/default-2048/s12_2023-04-13_11-32-35sizc9185']"
      ]
     },
     "execution_count": 76,
     "metadata": {},
     "output_type": "execute_result"
    }
   ],
   "source": [
    "model_load_dirs"
   ]
  },
  {
   "cell_type": "markdown",
   "metadata": {},
   "source": [
    "##### model_load_dirs = ['HalfCheetah_MIXED-RT-5/default/s1_2023-03-06_11-13-45xh8hsuja']"
   ]
  },
  {
   "cell_type": "code",
   "execution_count": null,
   "metadata": {},
   "outputs": [],
   "source": []
  },
  {
   "cell_type": "code",
   "execution_count": 77,
   "metadata": {},
   "outputs": [],
   "source": [
    "list_to_dump = []\n",
    "\n",
    "for mld in model_load_dirs:\n",
    "    bnn_name = mld.split('/')[-2]\n",
    "    bnn_seed = mld.split('/')[-1].split('_')[0]\n",
    "    for rl in rollout_lengths:\n",
    "        for mp in mopo_penalty_coeffs:\n",
    "            for seed in seeds:\n",
    "                exp_name = f'{bnn_name}{bnn_seed}_mp{mp}rl{rl}'\n",
    "                list_to_dump.append(dict(config=CONFIG, dataset=DATASET, rollout_length=rl, mopo_penalty_coeff=mp,\n",
    "                                    seed=seed, model_load_dir=mld, exp_name=exp_name)) \n",
    "\n",
    "with open(f\"{DATASET}_rex_exp_params.json\", \"w\") as outfile:\n",
    "    json.dump(list_to_dump, outfile, indent=\"\")"
   ]
  },
  {
   "cell_type": "code",
   "execution_count": 78,
   "metadata": {},
   "outputs": [
    {
     "data": {
      "text/plain": [
       "'Humanoid-Mixed-Novice_rex_exp_params.json'"
      ]
     },
     "execution_count": 78,
     "metadata": {},
     "output_type": "execute_result"
    }
   ],
   "source": [
    "f\"{DATASET}_rex_exp_params.json\""
   ]
  },
  {
   "cell_type": "code",
   "execution_count": null,
   "metadata": {},
   "outputs": [],
   "source": []
  },
  {
   "cell_type": "code",
   "execution_count": null,
   "metadata": {},
   "outputs": [],
   "source": []
  }
 ],
 "metadata": {
  "kernelspec": {
   "display_name": "Python 3",
   "language": "python",
   "name": "python3"
  },
  "language_info": {
   "codemirror_mode": {
    "name": "ipython",
    "version": 3
   },
   "file_extension": ".py",
   "mimetype": "text/x-python",
   "name": "python",
   "nbconvert_exporter": "python",
   "pygments_lexer": "ipython3",
   "version": "3.6.5"
  }
 },
 "nbformat": 4,
 "nbformat_minor": 4
}
