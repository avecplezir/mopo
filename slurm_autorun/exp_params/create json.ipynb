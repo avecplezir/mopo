{
 "cells": [
  {
   "cell_type": "code",
   "execution_count": 39,
   "metadata": {},
   "outputs": [],
   "source": [
    "import json\n",
    "from glob import glob"
   ]
  },
  {
   "cell_type": "code",
   "execution_count": 40,
   "metadata": {},
   "outputs": [],
   "source": [
    "CONFIG = 'walker2d_custom_rl'\n",
    "DATASET = 'W-MIXED-RT-1'\n",
    "rollout_lengths = {1, 5, 10}\n",
    "mopo_penalty_coeffs = {0, 1, 5}\n",
    "seeds = {1, 2, 3}\n",
    "model_load_dirs = {\"Walker2d_W-MIXED-RT-1/default/s12_2023-02-27_15-47-18bs6_l049\"}"
   ]
  },
  {
   "cell_type": "code",
   "execution_count": 41,
   "metadata": {},
   "outputs": [
    {
     "data": {
      "text/plain": [
       "['/rds/project/rds-eWkDxBhxBrQ/dimorl/code/mopo/ray_mopo/Hopper_H-MIXED-RT-4/rexb20/s1_2023-03-06_10-52-150dnpr3nn',\n",
       " '/rds/project/rds-eWkDxBhxBrQ/dimorl/code/mopo/ray_mopo/Hopper_H-MIXED-RT-4/rexstdb01/s1_2023-03-06_11-00-270b5ufbtg',\n",
       " '/rds/project/rds-eWkDxBhxBrQ/dimorl/code/mopo/ray_mopo/Hopper_H-MIXED-RT-4/rexstdb8/s1_2023-03-06_10-55-34665_yjtk',\n",
       " '/rds/project/rds-eWkDxBhxBrQ/dimorl/code/mopo/ray_mopo/Hopper_H-MIXED-RT-4/meandevb1/s1_2023-03-06_11-08-42z7x144c_',\n",
       " '/rds/project/rds-eWkDxBhxBrQ/dimorl/code/mopo/ray_mopo/Hopper_H-MIXED-RT-4/meandevb2/s1_2023-03-06_11-08-42e9wfrn_8',\n",
       " '/rds/project/rds-eWkDxBhxBrQ/dimorl/code/mopo/ray_mopo/Hopper_H-MIXED-RT-4/rexstdb1/s1_2023-03-06_10-54-43lwwy30wx',\n",
       " '/rds/project/rds-eWkDxBhxBrQ/dimorl/code/mopo/ray_mopo/Hopper_H-MIXED-RT-4/rexstdb16/s1_2023-03-06_11-53-25ftxqv60p',\n",
       " '/rds/project/rds-eWkDxBhxBrQ/dimorl/code/mopo/ray_mopo/Hopper_H-MIXED-RT-4/rexb10/s1_2023-03-06_10-47-51yfwfo7ae',\n",
       " '/rds/project/rds-eWkDxBhxBrQ/dimorl/code/mopo/ray_mopo/Hopper_H-MIXED-RT-4/rexstdb05/s1_2023-03-06_10-54-43pwf1g49l',\n",
       " '/rds/project/rds-eWkDxBhxBrQ/dimorl/code/mopo/ray_mopo/Hopper_H-MIXED-RT-4/meandevb05/s1_2023-03-06_11-08-41i6nzbrcf',\n",
       " '/rds/project/rds-eWkDxBhxBrQ/dimorl/code/mopo/ray_mopo/Hopper_H-MIXED-RT-4/rexb5/s1_2023-03-06_10-43-33rrjlanlr',\n",
       " '/rds/project/rds-eWkDxBhxBrQ/dimorl/code/mopo/ray_mopo/Hopper_H-MIXED-RT-4/default/s1_2023-03-06_11-13-45xppc0i3w',\n",
       " '/rds/project/rds-eWkDxBhxBrQ/dimorl/code/mopo/ray_mopo/Hopper_H-MIXED-RT-4/rexstdb32/s1_2023-03-06_11-53-220bd4ijg0',\n",
       " '/rds/project/rds-eWkDxBhxBrQ/dimorl/code/mopo/ray_mopo/Hopper_H-MIXED-RT-4/rexstdb100/s1_2023-03-06_11-53-26lryxhl1o',\n",
       " '/rds/project/rds-eWkDxBhxBrQ/dimorl/code/mopo/ray_mopo/Hopper_H-MIXED-RT-4/rexstdb2/s1_2023-03-06_10-54-43lsheifry']"
      ]
     },
     "execution_count": 41,
     "metadata": {},
     "output_type": "execute_result"
    }
   ],
   "source": [
    "dir_list = glob(\"/rds/project/rds-eWkDxBhxBrQ/dimorl/code/mopo/ray_mopo/Hopper_H-MIXED-RT-4/*/*\", recursive = True)\n",
    "\n",
    "def filter_dir(x):\n",
    "    last = x.split('/')[-1]\n",
    "    return last.startswith('s') \n",
    "\n",
    "with_s = list(filter(filter_dir, dir_list))\n",
    "with_s"
   ]
  },
  {
   "cell_type": "code",
   "execution_count": 42,
   "metadata": {},
   "outputs": [
    {
     "data": {
      "text/plain": [
       "['Hopper_H-MIXED-RT-4/rexb20/s1_2023-03-06_10-52-150dnpr3nn',\n",
       " 'Hopper_H-MIXED-RT-4/rexstdb01/s1_2023-03-06_11-00-270b5ufbtg',\n",
       " 'Hopper_H-MIXED-RT-4/rexstdb8/s1_2023-03-06_10-55-34665_yjtk',\n",
       " 'Hopper_H-MIXED-RT-4/meandevb1/s1_2023-03-06_11-08-42z7x144c_',\n",
       " 'Hopper_H-MIXED-RT-4/meandevb2/s1_2023-03-06_11-08-42e9wfrn_8',\n",
       " 'Hopper_H-MIXED-RT-4/rexstdb1/s1_2023-03-06_10-54-43lwwy30wx',\n",
       " 'Hopper_H-MIXED-RT-4/rexstdb16/s1_2023-03-06_11-53-25ftxqv60p',\n",
       " 'Hopper_H-MIXED-RT-4/rexb10/s1_2023-03-06_10-47-51yfwfo7ae',\n",
       " 'Hopper_H-MIXED-RT-4/rexstdb05/s1_2023-03-06_10-54-43pwf1g49l',\n",
       " 'Hopper_H-MIXED-RT-4/meandevb05/s1_2023-03-06_11-08-41i6nzbrcf',\n",
       " 'Hopper_H-MIXED-RT-4/rexb5/s1_2023-03-06_10-43-33rrjlanlr',\n",
       " 'Hopper_H-MIXED-RT-4/default/s1_2023-03-06_11-13-45xppc0i3w',\n",
       " 'Hopper_H-MIXED-RT-4/rexstdb32/s1_2023-03-06_11-53-220bd4ijg0',\n",
       " 'Hopper_H-MIXED-RT-4/rexstdb100/s1_2023-03-06_11-53-26lryxhl1o',\n",
       " 'Hopper_H-MIXED-RT-4/rexstdb2/s1_2023-03-06_10-54-43lsheifry']"
      ]
     },
     "execution_count": 42,
     "metadata": {},
     "output_type": "execute_result"
    }
   ],
   "source": [
    "dir_list = glob(\"/rds/project/rds-eWkDxBhxBrQ/dimorl/code/mopo/ray_mopo/Hopper_H-MIXED-RT-4/*/*\", recursive = True)\n",
    "\n",
    "def filter_dir(x):\n",
    "    last = x.split('/')[-1]\n",
    "    return last.startswith('s') \n",
    "\n",
    "with_s = list(filter(filter_dir, dir_list))\n",
    "with_s = [\"/\".join(model_dir.split('/')[-3:])for model_dir in with_s]\n",
    "model_load_dirs = with_s\n",
    "with_s"
   ]
  },
  {
   "cell_type": "code",
   "execution_count": 43,
   "metadata": {},
   "outputs": [],
   "source": [
    "list_to_dump = []\n",
    "\n",
    "for mld in model_load_dirs:\n",
    "    bnn_name = mld.split('/')[-2]\n",
    "    bnn_seed = mld.split('/')[-1].split('_')[0]\n",
    "    for rl in rollout_lengths:\n",
    "        for mp in mopo_penalty_coeffs:\n",
    "            for seed in seeds:\n",
    "                exp_name = f'{bnn_name}{bnn_seed}_mp{mp}rl{rl}'\n",
    "                list_to_dump.append(dict(config=CONFIG, dataset=DATASET, rollout_length=rl, mopo_penalty_coeff=mp,\n",
    "                                    seed=seed, model_load_dir=mld, exp_name=exp_name)) \n",
    "\n",
    "with open(f\"{DATASET}_exp_params.json\", \"w\") as outfile:\n",
    "    json.dump(list_to_dump, outfile, indent=\"\")"
   ]
  },
  {
   "cell_type": "code",
   "execution_count": 44,
   "metadata": {},
   "outputs": [
    {
     "data": {
      "text/plain": [
       "'W-MIXED-RT-1_exp_params.json'"
      ]
     },
     "execution_count": 44,
     "metadata": {},
     "output_type": "execute_result"
    }
   ],
   "source": [
    "f\"{DATASET}_exp_params.json\""
   ]
  },
  {
   "cell_type": "code",
   "execution_count": null,
   "metadata": {},
   "outputs": [],
   "source": []
  }
 ],
 "metadata": {
  "kernelspec": {
   "display_name": "Python 3",
   "language": "python",
   "name": "python3"
  },
  "language_info": {
   "codemirror_mode": {
    "name": "ipython",
    "version": 3
   },
   "file_extension": ".py",
   "mimetype": "text/x-python",
   "name": "python",
   "nbconvert_exporter": "python",
   "pygments_lexer": "ipython3",
   "version": "3.6.5"
  }
 },
 "nbformat": 4,
 "nbformat_minor": 4
}
