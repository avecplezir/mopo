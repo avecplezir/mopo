{
 "cells": [
  {
   "cell_type": "code",
   "execution_count": 1,
   "metadata": {},
   "outputs": [],
   "source": [
    "import json\n",
    "from glob import glob"
   ]
  },
  {
   "cell_type": "code",
   "execution_count": 6,
   "metadata": {},
   "outputs": [],
   "source": [
    "# CONFIG = 'hopper_custom_rl' \n",
    "# DATASET = 'H-MIXED-RT-4'\n",
    "# model_dir_glob = \"/rds/project/rds-eWkDxBhxBrQ/dimorl/code/mopo/ray_mopo/Hopper_H-MIXED-RT-4/*/*\"\n",
    "# rollout_lengths = {1, 5, 50}\n",
    "\n",
    "CONFIG = 'halfcheetah_custom_rl' \n",
    "DATASET = 'MIXED-RT-5'\n",
    "model_dir_glob = \"/rds/project/rds-eWkDxBhxBrQ/dimorl/code/mopo/ray_mopo/HalfCheetah_MIXED-RT-5/*/*\"\n",
    "rollout_lengths = {1, 5, 20}\n",
    "\n",
    "# CONFIG = 'walker2d_custom_rl' \n",
    "# DATASET = 'W-MIXED-RT-1' \n",
    "# model_dir_glob = \"/rds/project/rds-eWkDxBhxBrQ/dimorl/code/mopo/ray_mopo/Walker2d_W-MIXED-RT-1/*/*\"\n",
    "# rollout_lengths = {1, 5, 10}\n",
    "\n",
    "mopo_penalty_coeffs = {0, 1, 5}\n",
    "seeds = {1, 2, 3}\n",
    "# seeds = {1,}"
   ]
  },
  {
   "cell_type": "code",
   "execution_count": 7,
   "metadata": {},
   "outputs": [
    {
     "data": {
      "text/plain": [
       "['/rds/project/rds-eWkDxBhxBrQ/dimorl/code/mopo/ray_mopo/HalfCheetah_MIXED-RT-5/rexb20/s1_2023-03-06_11-15-54u_uink5n',\n",
       " '/rds/project/rds-eWkDxBhxBrQ/dimorl/code/mopo/ray_mopo/HalfCheetah_MIXED-RT-5/batch_5_rexstdb8/s1_2023-03-08_20-46-406v_038ga',\n",
       " '/rds/project/rds-eWkDxBhxBrQ/dimorl/code/mopo/ray_mopo/HalfCheetah_MIXED-RT-5/batch_m_rexstdb05/s1_2023-03-08_19-48-29m699all9',\n",
       " '/rds/project/rds-eWkDxBhxBrQ/dimorl/code/mopo/ray_mopo/HalfCheetah_MIXED-RT-5/batch_rexstdb1/s1_2023-03-08_17-43-00kd8dxe0y',\n",
       " '/rds/project/rds-eWkDxBhxBrQ/dimorl/code/mopo/ray_mopo/HalfCheetah_MIXED-RT-5/batch_rexstdb2/s1_2023-03-08_17-47-30nglg2thd',\n",
       " '/rds/project/rds-eWkDxBhxBrQ/dimorl/code/mopo/ray_mopo/HalfCheetah_MIXED-RT-5/rexstdb01/s1_2023-03-06_11-18-10v4rza8b0',\n",
       " '/rds/project/rds-eWkDxBhxBrQ/dimorl/code/mopo/ray_mopo/HalfCheetah_MIXED-RT-5/batch_rexstdb01/s1_2023-03-08_17-48-02brockp50',\n",
       " '/rds/project/rds-eWkDxBhxBrQ/dimorl/code/mopo/ray_mopo/HalfCheetah_MIXED-RT-5/batch_5_rexb20/s1_2023-03-08_20-49-45lfb_5lru',\n",
       " '/rds/project/rds-eWkDxBhxBrQ/dimorl/code/mopo/ray_mopo/HalfCheetah_MIXED-RT-5/rexstdb8/s1_2023-03-06_11-33-50_f7wccrn',\n",
       " '/rds/project/rds-eWkDxBhxBrQ/dimorl/code/mopo/ray_mopo/HalfCheetah_MIXED-RT-5/batch_m_rexb4/s1_2023-03-08_19-58-40efao11dd',\n",
       " '/rds/project/rds-eWkDxBhxBrQ/dimorl/code/mopo/ray_mopo/HalfCheetah_MIXED-RT-5/batch_m_rexstdb1/s1_2023-03-08_19-05-104mixo32_',\n",
       " '/rds/project/rds-eWkDxBhxBrQ/dimorl/code/mopo/ray_mopo/HalfCheetah_MIXED-RT-5/rexstdb1/s1_2023-03-06_11-20-08ku3tcgc6',\n",
       " '/rds/project/rds-eWkDxBhxBrQ/dimorl/code/mopo/ray_mopo/HalfCheetah_MIXED-RT-5/rexb10/s1_2023-03-06_11-15-54qsw2r2kx',\n",
       " '/rds/project/rds-eWkDxBhxBrQ/dimorl/code/mopo/ray_mopo/HalfCheetah_MIXED-RT-5/batch_rexstdb16/s1_2023-03-08_18-15-06rri5kigu',\n",
       " '/rds/project/rds-eWkDxBhxBrQ/dimorl/code/mopo/ray_mopo/HalfCheetah_MIXED-RT-5/rexstdb05/s1_2023-03-06_11-18-12zi2l3jek',\n",
       " '/rds/project/rds-eWkDxBhxBrQ/dimorl/code/mopo/ray_mopo/HalfCheetah_MIXED-RT-5/batch_5_rexstdb2/s1_2023-03-08_20-47-33_1pvw2cv',\n",
       " '/rds/project/rds-eWkDxBhxBrQ/dimorl/code/mopo/ray_mopo/HalfCheetah_MIXED-RT-5/batch_m_rexstdb2/s1_2023-03-08_19-59-022xczjfaz',\n",
       " '/rds/project/rds-eWkDxBhxBrQ/dimorl/code/mopo/ray_mopo/HalfCheetah_MIXED-RT-5/batch_rexstdb001/s1_2023-03-08_17-47-53l7bnazmy',\n",
       " '/rds/project/rds-eWkDxBhxBrQ/dimorl/code/mopo/ray_mopo/HalfCheetah_MIXED-RT-5/batch_rexb5/s1_2023-03-08_17-48-37zld6czv7',\n",
       " '/rds/project/rds-eWkDxBhxBrQ/dimorl/code/mopo/ray_mopo/HalfCheetah_MIXED-RT-5/rexb5/s1_2023-03-06_19-33-0071jd29j5',\n",
       " '/rds/project/rds-eWkDxBhxBrQ/dimorl/code/mopo/ray_mopo/HalfCheetah_MIXED-RT-5/default/s1_2023-03-06_11-13-45xh8hsuja',\n",
       " '/rds/project/rds-eWkDxBhxBrQ/dimorl/code/mopo/ray_mopo/HalfCheetah_MIXED-RT-5/batch_rexstdb8/s1_2023-03-08_18-15-06_6ona21k',\n",
       " '/rds/project/rds-eWkDxBhxBrQ/dimorl/code/mopo/ray_mopo/HalfCheetah_MIXED-RT-5/batch_m_rexb1/s1_2023-03-08_19-48-35thxi8a5n',\n",
       " '/rds/project/rds-eWkDxBhxBrQ/dimorl/code/mopo/ray_mopo/HalfCheetah_MIXED-RT-5/batch_m_rexb2/s1_2023-03-08_19-58-41c0p90xj8',\n",
       " '/rds/project/rds-eWkDxBhxBrQ/dimorl/code/mopo/ray_mopo/HalfCheetah_MIXED-RT-5/batch_rexstdb32/s1_2023-03-08_18-07-37hz39cdvu',\n",
       " '/rds/project/rds-eWkDxBhxBrQ/dimorl/code/mopo/ray_mopo/HalfCheetah_MIXED-RT-5/batch_rexstdb32/s1_2023-03-08_18-02-56tiqi_y_b',\n",
       " '/rds/project/rds-eWkDxBhxBrQ/dimorl/code/mopo/ray_mopo/HalfCheetah_MIXED-RT-5/batch_rexstdb4/s1_2023-03-08_18-11-42mlwdoqq0',\n",
       " '/rds/project/rds-eWkDxBhxBrQ/dimorl/code/mopo/ray_mopo/HalfCheetah_MIXED-RT-5/batch_5_rexstdb05/s1_2023-03-08_20-47-33thki_7yj',\n",
       " '/rds/project/rds-eWkDxBhxBrQ/dimorl/code/mopo/ray_mopo/HalfCheetah_MIXED-RT-5/batch_rexb20/s1_2023-03-08_17-59-0193yqzoma',\n",
       " '/rds/project/rds-eWkDxBhxBrQ/dimorl/code/mopo/ray_mopo/HalfCheetah_MIXED-RT-5/batch_m_rexstdb01/s1_2023-03-08_19-31-32j05am7mv',\n",
       " '/rds/project/rds-eWkDxBhxBrQ/dimorl/code/mopo/ray_mopo/HalfCheetah_MIXED-RT-5/batch_rexstdb05/s1_2023-03-08_17-44-05pqo3ez6r',\n",
       " '/rds/project/rds-eWkDxBhxBrQ/dimorl/code/mopo/ray_mopo/HalfCheetah_MIXED-RT-5/batch_5_rexstdb1/s1_2023-03-08_20-47-3348kx4dbk',\n",
       " '/rds/project/rds-eWkDxBhxBrQ/dimorl/code/mopo/ray_mopo/HalfCheetah_MIXED-RT-5/batch_m_rexstdb4/s1_2023-03-08_19-48-30dxaq7g9e',\n",
       " '/rds/project/rds-eWkDxBhxBrQ/dimorl/code/mopo/ray_mopo/HalfCheetah_MIXED-RT-5/batch_5_rexb5/s1_2023-03-08_20-49-43w5xy6f7o',\n",
       " '/rds/project/rds-eWkDxBhxBrQ/dimorl/code/mopo/ray_mopo/HalfCheetah_MIXED-RT-5/rexstdb2/s1_2023-03-06_11-20-08c41y0uzr',\n",
       " '/rds/project/rds-eWkDxBhxBrQ/dimorl/code/mopo/ray_mopo/HalfCheetah_MIXED-RT-5/batch_5_rexb10/s1_2023-03-08_20-49-4244yexc2w',\n",
       " '/rds/project/rds-eWkDxBhxBrQ/dimorl/code/mopo/ray_mopo/HalfCheetah_MIXED-RT-5/batch_rexb10/s1_2023-03-08_17-52-37z4i_dq7n']"
      ]
     },
     "execution_count": 7,
     "metadata": {},
     "output_type": "execute_result"
    }
   ],
   "source": [
    "dir_list = glob(model_dir_glob, recursive = True)\n",
    "\n",
    "def filter_dir(x):\n",
    "    last = x.split('/')[-1]\n",
    "    return last.startswith('s') \n",
    "\n",
    "with_s = list(filter(filter_dir, dir_list))\n",
    "with_s"
   ]
  },
  {
   "cell_type": "code",
   "execution_count": 8,
   "metadata": {},
   "outputs": [
    {
     "data": {
      "text/plain": [
       "['HalfCheetah_MIXED-RT-5/rexb20/s1_2023-03-06_11-15-54u_uink5n',\n",
       " 'HalfCheetah_MIXED-RT-5/batch_5_rexstdb8/s1_2023-03-08_20-46-406v_038ga',\n",
       " 'HalfCheetah_MIXED-RT-5/batch_m_rexstdb05/s1_2023-03-08_19-48-29m699all9',\n",
       " 'HalfCheetah_MIXED-RT-5/batch_rexstdb1/s1_2023-03-08_17-43-00kd8dxe0y',\n",
       " 'HalfCheetah_MIXED-RT-5/batch_rexstdb2/s1_2023-03-08_17-47-30nglg2thd',\n",
       " 'HalfCheetah_MIXED-RT-5/rexstdb01/s1_2023-03-06_11-18-10v4rza8b0',\n",
       " 'HalfCheetah_MIXED-RT-5/batch_rexstdb01/s1_2023-03-08_17-48-02brockp50',\n",
       " 'HalfCheetah_MIXED-RT-5/batch_5_rexb20/s1_2023-03-08_20-49-45lfb_5lru',\n",
       " 'HalfCheetah_MIXED-RT-5/rexstdb8/s1_2023-03-06_11-33-50_f7wccrn',\n",
       " 'HalfCheetah_MIXED-RT-5/batch_m_rexb4/s1_2023-03-08_19-58-40efao11dd',\n",
       " 'HalfCheetah_MIXED-RT-5/batch_m_rexstdb1/s1_2023-03-08_19-05-104mixo32_',\n",
       " 'HalfCheetah_MIXED-RT-5/rexstdb1/s1_2023-03-06_11-20-08ku3tcgc6',\n",
       " 'HalfCheetah_MIXED-RT-5/rexb10/s1_2023-03-06_11-15-54qsw2r2kx',\n",
       " 'HalfCheetah_MIXED-RT-5/batch_rexstdb16/s1_2023-03-08_18-15-06rri5kigu',\n",
       " 'HalfCheetah_MIXED-RT-5/rexstdb05/s1_2023-03-06_11-18-12zi2l3jek',\n",
       " 'HalfCheetah_MIXED-RT-5/batch_5_rexstdb2/s1_2023-03-08_20-47-33_1pvw2cv',\n",
       " 'HalfCheetah_MIXED-RT-5/batch_m_rexstdb2/s1_2023-03-08_19-59-022xczjfaz',\n",
       " 'HalfCheetah_MIXED-RT-5/batch_rexstdb001/s1_2023-03-08_17-47-53l7bnazmy',\n",
       " 'HalfCheetah_MIXED-RT-5/batch_rexb5/s1_2023-03-08_17-48-37zld6czv7',\n",
       " 'HalfCheetah_MIXED-RT-5/rexb5/s1_2023-03-06_19-33-0071jd29j5',\n",
       " 'HalfCheetah_MIXED-RT-5/default/s1_2023-03-06_11-13-45xh8hsuja',\n",
       " 'HalfCheetah_MIXED-RT-5/batch_rexstdb8/s1_2023-03-08_18-15-06_6ona21k',\n",
       " 'HalfCheetah_MIXED-RT-5/batch_m_rexb1/s1_2023-03-08_19-48-35thxi8a5n',\n",
       " 'HalfCheetah_MIXED-RT-5/batch_m_rexb2/s1_2023-03-08_19-58-41c0p90xj8',\n",
       " 'HalfCheetah_MIXED-RT-5/batch_rexstdb32/s1_2023-03-08_18-07-37hz39cdvu',\n",
       " 'HalfCheetah_MIXED-RT-5/batch_rexstdb32/s1_2023-03-08_18-02-56tiqi_y_b',\n",
       " 'HalfCheetah_MIXED-RT-5/batch_rexstdb4/s1_2023-03-08_18-11-42mlwdoqq0',\n",
       " 'HalfCheetah_MIXED-RT-5/batch_5_rexstdb05/s1_2023-03-08_20-47-33thki_7yj',\n",
       " 'HalfCheetah_MIXED-RT-5/batch_rexb20/s1_2023-03-08_17-59-0193yqzoma',\n",
       " 'HalfCheetah_MIXED-RT-5/batch_m_rexstdb01/s1_2023-03-08_19-31-32j05am7mv',\n",
       " 'HalfCheetah_MIXED-RT-5/batch_rexstdb05/s1_2023-03-08_17-44-05pqo3ez6r',\n",
       " 'HalfCheetah_MIXED-RT-5/batch_5_rexstdb1/s1_2023-03-08_20-47-3348kx4dbk',\n",
       " 'HalfCheetah_MIXED-RT-5/batch_m_rexstdb4/s1_2023-03-08_19-48-30dxaq7g9e',\n",
       " 'HalfCheetah_MIXED-RT-5/batch_5_rexb5/s1_2023-03-08_20-49-43w5xy6f7o',\n",
       " 'HalfCheetah_MIXED-RT-5/rexstdb2/s1_2023-03-06_11-20-08c41y0uzr',\n",
       " 'HalfCheetah_MIXED-RT-5/batch_5_rexb10/s1_2023-03-08_20-49-4244yexc2w',\n",
       " 'HalfCheetah_MIXED-RT-5/batch_rexb10/s1_2023-03-08_17-52-37z4i_dq7n']"
      ]
     },
     "execution_count": 8,
     "metadata": {},
     "output_type": "execute_result"
    }
   ],
   "source": [
    "dir_list = glob(model_dir_glob, recursive = True)\n",
    "\n",
    "def filter_dir(x):\n",
    "    last = x.split('/')[-1]\n",
    "    return last.startswith('s') \n",
    "\n",
    "with_s = list(filter(filter_dir, dir_list))\n",
    "with_s = [\"/\".join(model_dir.split('/')[-3:])for model_dir in with_s]\n",
    "model_load_dirs = with_s\n",
    "with_s"
   ]
  },
  {
   "cell_type": "code",
   "execution_count": 9,
   "metadata": {},
   "outputs": [
    {
     "data": {
      "text/plain": [
       "['HalfCheetah_MIXED-RT-5/batch_5_rexstdb8/s1_2023-03-08_20-46-406v_038ga',\n",
       " 'HalfCheetah_MIXED-RT-5/batch_5_rexb20/s1_2023-03-08_20-49-45lfb_5lru',\n",
       " 'HalfCheetah_MIXED-RT-5/batch_5_rexstdb2/s1_2023-03-08_20-47-33_1pvw2cv',\n",
       " 'HalfCheetah_MIXED-RT-5/batch_5_rexstdb05/s1_2023-03-08_20-47-33thki_7yj',\n",
       " 'HalfCheetah_MIXED-RT-5/batch_5_rexstdb1/s1_2023-03-08_20-47-3348kx4dbk',\n",
       " 'HalfCheetah_MIXED-RT-5/batch_5_rexb5/s1_2023-03-08_20-49-43w5xy6f7o',\n",
       " 'HalfCheetah_MIXED-RT-5/batch_5_rexb10/s1_2023-03-08_20-49-4244yexc2w']"
      ]
     },
     "execution_count": 9,
     "metadata": {},
     "output_type": "execute_result"
    }
   ],
   "source": [
    "model_load_dirs = [mld for mld in  model_load_dirs if '_5_' in mld]\n",
    "model_load_dirs"
   ]
  },
  {
   "cell_type": "code",
   "execution_count": 10,
   "metadata": {},
   "outputs": [],
   "source": [
    "# model_load_dirs = ['HalfCheetah_MIXED-RT-5/default/s1_2023-03-06_11-13-45xh8hsuja']"
   ]
  },
  {
   "cell_type": "code",
   "execution_count": 11,
   "metadata": {},
   "outputs": [],
   "source": [
    "list_to_dump = []\n",
    "\n",
    "for mld in model_load_dirs:\n",
    "    bnn_name = mld.split('/')[-2]\n",
    "    bnn_seed = mld.split('/')[-1].split('_')[0]\n",
    "    for rl in rollout_lengths:\n",
    "        for mp in mopo_penalty_coeffs:\n",
    "            for seed in seeds:\n",
    "                exp_name = f'{bnn_name}{bnn_seed}_mp{mp}rl{rl}'\n",
    "                list_to_dump.append(dict(config=CONFIG, dataset=DATASET, rollout_length=rl, mopo_penalty_coeff=mp,\n",
    "                                    seed=seed, model_load_dir=mld, exp_name=exp_name)) \n",
    "\n",
    "with open(f\"{DATASET}_5_exp_params.json\", \"w\") as outfile:\n",
    "    json.dump(list_to_dump, outfile, indent=\"\")"
   ]
  },
  {
   "cell_type": "code",
   "execution_count": 13,
   "metadata": {},
   "outputs": [
    {
     "data": {
      "text/plain": [
       "'MIXED-RT-5_5_exp_params.json'"
      ]
     },
     "execution_count": 13,
     "metadata": {},
     "output_type": "execute_result"
    }
   ],
   "source": [
    "f\"{DATASET}_5_exp_params.json\""
   ]
  },
  {
   "cell_type": "code",
   "execution_count": null,
   "metadata": {},
   "outputs": [],
   "source": []
  }
 ],
 "metadata": {
  "kernelspec": {
   "display_name": "Python 3",
   "language": "python",
   "name": "python3"
  },
  "language_info": {
   "codemirror_mode": {
    "name": "ipython",
    "version": 3
   },
   "file_extension": ".py",
   "mimetype": "text/x-python",
   "name": "python",
   "nbconvert_exporter": "python",
   "pygments_lexer": "ipython3",
   "version": "3.6.5"
  }
 },
 "nbformat": 4,
 "nbformat_minor": 4
}
