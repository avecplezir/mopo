{
 "cells": [
  {
   "cell_type": "code",
   "execution_count": 51,
   "metadata": {},
   "outputs": [],
   "source": [
    "import json\n",
    "from glob import glob"
   ]
  },
  {
   "cell_type": "code",
   "execution_count": 52,
   "metadata": {},
   "outputs": [],
   "source": [
    "# CONFIG = 'hopper_custom_rl' \n",
    "# DATASET = 'H-MIXED-RT-4'\n",
    "# model_dir_glob = \"/rds/project/rds-eWkDxBhxBrQ/dimorl/code/mopo/ray_mopo/Hopper_H-MIXED-RT-4/*/*\"\n",
    "# rollout_lengths = {1, 5, 50}\n",
    "\n",
    "CONFIG = 'halfcheetah_custom_rl' \n",
    "DATASET = 'MIXED-RT-5'\n",
    "model_dir_glob = \"/rds/project/rds-eWkDxBhxBrQ/dimorl/code/mopo/ray_mopo/HalfCheetah_MIXED-RT-5/*/*\"\n",
    "rollout_lengths = {1, 5, 20}\n",
    "\n",
    "# CONFIG = 'walker2d_custom_rl' \n",
    "# DATASET = 'W-MIXED-RT-1' \n",
    "# model_dir_glob = \"/rds/project/rds-eWkDxBhxBrQ/dimorl/code/mopo/ray_mopo/Walker2d_W-MIXED-RT-1/*/*\"\n",
    "# rollout_lengths = {1, 5, 10}\n",
    "\n",
    "mopo_penalty_coeffs = {0, 1, 5}\n",
    "seeds = {1, 2, 3}\n",
    "# seeds = {1,}"
   ]
  },
  {
   "cell_type": "code",
   "execution_count": 53,
   "metadata": {},
   "outputs": [
    {
     "data": {
      "text/plain": [
       "['/rds/project/rds-eWkDxBhxBrQ/dimorl/code/mopo/ray_mopo/HalfCheetah_MIXED-RT-5/rexb20/s1_2023-03-06_11-15-54u_uink5n',\n",
       " '/rds/project/rds-eWkDxBhxBrQ/dimorl/code/mopo/ray_mopo/HalfCheetah_MIXED-RT-5/rexstdb01/s1_2023-03-06_11-18-10v4rza8b0',\n",
       " '/rds/project/rds-eWkDxBhxBrQ/dimorl/code/mopo/ray_mopo/HalfCheetah_MIXED-RT-5/rexstdb8/s1_2023-03-06_11-33-50_f7wccrn',\n",
       " '/rds/project/rds-eWkDxBhxBrQ/dimorl/code/mopo/ray_mopo/HalfCheetah_MIXED-RT-5/rexstdb1/s1_2023-03-06_11-20-08ku3tcgc6',\n",
       " '/rds/project/rds-eWkDxBhxBrQ/dimorl/code/mopo/ray_mopo/HalfCheetah_MIXED-RT-5/rexb10/s1_2023-03-06_11-15-54qsw2r2kx',\n",
       " '/rds/project/rds-eWkDxBhxBrQ/dimorl/code/mopo/ray_mopo/HalfCheetah_MIXED-RT-5/rexstdb05/s1_2023-03-06_11-18-12zi2l3jek',\n",
       " '/rds/project/rds-eWkDxBhxBrQ/dimorl/code/mopo/ray_mopo/HalfCheetah_MIXED-RT-5/rexb5/s1_2023-03-06_19-33-0071jd29j5',\n",
       " '/rds/project/rds-eWkDxBhxBrQ/dimorl/code/mopo/ray_mopo/HalfCheetah_MIXED-RT-5/default/s1_2023-03-06_11-13-45xh8hsuja',\n",
       " '/rds/project/rds-eWkDxBhxBrQ/dimorl/code/mopo/ray_mopo/HalfCheetah_MIXED-RT-5/rexstdb2/s1_2023-03-06_11-20-08c41y0uzr']"
      ]
     },
     "execution_count": 53,
     "metadata": {},
     "output_type": "execute_result"
    }
   ],
   "source": [
    "dir_list = glob(model_dir_glob, recursive = True)\n",
    "\n",
    "def filter_dir(x):\n",
    "    last = x.split('/')[-1]\n",
    "    return last.startswith('s') \n",
    "\n",
    "with_s = list(filter(filter_dir, dir_list))\n",
    "with_s"
   ]
  },
  {
   "cell_type": "code",
   "execution_count": 54,
   "metadata": {},
   "outputs": [
    {
     "data": {
      "text/plain": [
       "['HalfCheetah_MIXED-RT-5/rexb20/s1_2023-03-06_11-15-54u_uink5n',\n",
       " 'HalfCheetah_MIXED-RT-5/rexstdb01/s1_2023-03-06_11-18-10v4rza8b0',\n",
       " 'HalfCheetah_MIXED-RT-5/rexstdb8/s1_2023-03-06_11-33-50_f7wccrn',\n",
       " 'HalfCheetah_MIXED-RT-5/rexstdb1/s1_2023-03-06_11-20-08ku3tcgc6',\n",
       " 'HalfCheetah_MIXED-RT-5/rexb10/s1_2023-03-06_11-15-54qsw2r2kx',\n",
       " 'HalfCheetah_MIXED-RT-5/rexstdb05/s1_2023-03-06_11-18-12zi2l3jek',\n",
       " 'HalfCheetah_MIXED-RT-5/rexb5/s1_2023-03-06_19-33-0071jd29j5',\n",
       " 'HalfCheetah_MIXED-RT-5/default/s1_2023-03-06_11-13-45xh8hsuja',\n",
       " 'HalfCheetah_MIXED-RT-5/rexstdb2/s1_2023-03-06_11-20-08c41y0uzr']"
      ]
     },
     "execution_count": 54,
     "metadata": {},
     "output_type": "execute_result"
    }
   ],
   "source": [
    "dir_list = glob(model_dir_glob, recursive = True)\n",
    "\n",
    "def filter_dir(x):\n",
    "    last = x.split('/')[-1]\n",
    "    return last.startswith('s') \n",
    "\n",
    "with_s = list(filter(filter_dir, dir_list))\n",
    "with_s = [\"/\".join(model_dir.split('/')[-3:])for model_dir in with_s]\n",
    "model_load_dirs = with_s\n",
    "with_s"
   ]
  },
  {
   "cell_type": "code",
   "execution_count": 55,
   "metadata": {},
   "outputs": [],
   "source": [
    "# model_load_dirs = ['HalfCheetah_MIXED-RT-5/default/s1_2023-03-06_11-13-45xh8hsuja']"
   ]
  },
  {
   "cell_type": "code",
   "execution_count": 57,
   "metadata": {},
   "outputs": [],
   "source": [
    "list_to_dump = []\n",
    "\n",
    "for mld in model_load_dirs:\n",
    "    bnn_name = mld.split('/')[-2]\n",
    "    bnn_seed = mld.split('/')[-1].split('_')[0]\n",
    "    for rl in rollout_lengths:\n",
    "        for mp in mopo_penalty_coeffs:\n",
    "            for seed in seeds:\n",
    "                exp_name = f'{bnn_name}{bnn_seed}_mp{mp}rl{rl}'\n",
    "                list_to_dump.append(dict(config=CONFIG, dataset=DATASET, rollout_length=rl, mopo_penalty_coeff=mp,\n",
    "                                    seed=seed, model_load_dir=mld, exp_name=exp_name)) \n",
    "\n",
    "with open(f\"{DATASET}_exp_params.json\", \"w\") as outfile:\n",
    "    json.dump(list_to_dump, outfile, indent=\"\")"
   ]
  },
  {
   "cell_type": "code",
   "execution_count": 58,
   "metadata": {},
   "outputs": [
    {
     "data": {
      "text/plain": [
       "'MIXED-RT-5_exp_params.json'"
      ]
     },
     "execution_count": 58,
     "metadata": {},
     "output_type": "execute_result"
    }
   ],
   "source": [
    "f\"{DATASET}_exp_params.json\""
   ]
  },
  {
   "cell_type": "code",
   "execution_count": null,
   "metadata": {},
   "outputs": [],
   "source": []
  }
 ],
 "metadata": {
  "kernelspec": {
   "display_name": "Python 3",
   "language": "python",
   "name": "python3"
  },
  "language_info": {
   "codemirror_mode": {
    "name": "ipython",
    "version": 3
   },
   "file_extension": ".py",
   "mimetype": "text/x-python",
   "name": "python",
   "nbconvert_exporter": "python",
   "pygments_lexer": "ipython3",
   "version": "3.6.5"
  }
 },
 "nbformat": 4,
 "nbformat_minor": 4
}
