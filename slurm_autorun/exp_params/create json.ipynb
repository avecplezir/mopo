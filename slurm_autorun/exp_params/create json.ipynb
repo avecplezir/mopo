{
 "cells": [
  {
   "cell_type": "code",
   "execution_count": 23,
   "metadata": {},
   "outputs": [],
   "source": [
    "import json\n",
    "from glob import glob"
   ]
  },
  {
   "cell_type": "code",
   "execution_count": 41,
   "metadata": {},
   "outputs": [],
   "source": [
    "# CONFIG = 'hopper_custom_rl' \n",
    "# DATASET = 'H-MIXED-RT-4'\n",
    "# model_dir_glob = \"/rds/project/rds-eWkDxBhxBrQ/dimorl/code/mopo/ray_mopo/Hopper_H-MIXED-RT-4/*/*\"\n",
    "# rollout_lengths = {1, 5, 50}\n",
    "\n",
    "# CONFIG = 'halfcheetah_custom_rl' \n",
    "# DATASET = 'MIXED-RT-1'\n",
    "# model_dir_glob = \"/rds/project/rds-eWkDxBhxBrQ/dimorl/code/mopo/ray_mopo/HalfCheetah_MIXED-RT-1/*/*\"\n",
    "# rollout_lengths = {5, 10} #{1, 5, 20}\n",
    "# mopo_penalty_coeffs = {0, 5}\n",
    "\n",
    "# CONFIG = 'halfcheetah_custom_rl' \n",
    "# DATASET = 'MIXED-RT-4'\n",
    "# model_dir_glob = \"/rds/project/rds-eWkDxBhxBrQ/dimorl/code/mopo/ray_mopo/HalfCheetah_MIXED-RT-4/*/*\"\n",
    "# rollout_lengths = {10, } #{5, 10} #{1, 5, 20}\n",
    "# mopo_penalty_coeffs = {5,} #{0, 5}\n",
    "\n",
    "# CONFIG = 'humonoid_custom_rl' \n",
    "# DATASET = 'Humanoid-Novice-10' \n",
    "# model_dir_glob = \"/rds/project/rds-eWkDxBhxBrQ/dimorl/code/mopo/ray_mopo/Humanoid_Humanoid-Novice-10/*/*\"\n",
    "# rollout_lengths = {5, 10, 20}\n",
    "# mopo_penalty_coeffs = {0, 1, 5} #{0, 1}\n",
    "\n",
    "# CONFIG = 'humanoid_custom_rl' \n",
    "# DATASET = 'Humanoid-Mixed-Novice' \n",
    "# model_dir_glob = \"/rds/project/rds-eWkDxBhxBrQ/dimorl/code/mopo/ray_mopo/Humanoid_Humanoid-Mixed-Novice/*/*\"\n",
    "# rollout_lengths = {5, 10, 20}\n",
    "# mopo_penalty_coeffs = {0, 1, 5} #{0, 1}\n",
    "\n",
    "# CONFIG = 'humanoid_custom_rl' \n",
    "# DATASET = 'Humanoid-Mixed-Expert' \n",
    "# model_dir_glob = \"/rds/project/rds-eWkDxBhxBrQ/dimorl/code/mopo/ray_mopo/Humanoid_Humanoid-Mixed-Expert/*/*\"\n",
    "# rollout_lengths = {5, 10, 20}\n",
    "# mopo_penalty_coeffs = {0, 1, 5} #{0, 1}\n",
    "\n",
    "# CONFIG = 'ant_custom_rl' \n",
    "# DATASET = 'Ant-Mixed-Expert' \n",
    "# model_dir_glob = \"/rds/project/rds-eWkDxBhxBrQ/dimorl/code/mopo/ray_mopo/Ant_Ant-Mixed-Expert/*/*\"\n",
    "# rollout_lengths = {1, 5, 10}\n",
    "# mopo_penalty_coeffs = {0, 1, 5} #{0, 1}\n",
    "\n",
    "\n",
    "# CONFIG = 'ant_custom_rl' \n",
    "# DATASET = 'Ant-Mixed-Novice' \n",
    "# model_dir_glob = \"/rds/project/rds-eWkDxBhxBrQ/dimorl/code/mopo/ray_mopo/Ant_Ant-Mixed-Novice/*/*\"\n",
    "# rollout_lengths = {1, 5, 10}\n",
    "# mopo_penalty_coeffs = {0, 1, 5} #{0, 1}\n",
    "\n",
    "# seeds = {1, 2}\n",
    "# mopo_penalty_coeffs = {0, 1, 5}\n",
    "\n",
    "# CONFIG = 'walker2d_custom_rl' \n",
    "# DATASET = 'W-MIXED-RT-4' \n",
    "# model_dir_glob = \"/rds/project/rds-eWkDxBhxBrQ/dimorl/code/mopo/ray_mopo/Walker2d_W-MIXED-RT-4/*/*\"\n",
    "# rollout_lengths = {5, 10}\n",
    "# mopo_penalty_coeffs = {0, } #{0, 1}\n",
    "\n",
    "# CONFIG = 'walker2d_custom_rl' \n",
    "# DATASET = 'W-MIXED-RT-5' \n",
    "# model_dir_glob = \"/rds/project/rds-eWkDxBhxBrQ/dimorl/code/mopo/ray_mopo/Walker2d_W-MIXED-RT-5/*/*\"\n",
    "# rollout_lengths = {5, 10}\n",
    "# mopo_penalty_coeffs = {0, } #{0, 1}\n",
    "\n",
    "# CONFIG = 'walker2d_custom_rl' \n",
    "# DATASET = 'Walker-Mixed-Novice' \n",
    "# model_dir_glob = \"/rds/project/rds-eWkDxBhxBrQ/dimorl/code/mopo/ray_mopo/Walker2d_Walker-Mixed-Novice/*/*\"\n",
    "# rollout_lengths = {5, 10}\n",
    "# mopo_penalty_coeffs = {0, } #{0, 1}\n",
    "\n",
    "# CONFIG = 'walker2d_custom_rl' \n",
    "# DATASET = 'Walker-Mixed-Expert' \n",
    "# model_dir_glob = \"/rds/project/rds-eWkDxBhxBrQ/dimorl/code/mopo/ray_mopo/Walker2d_Walker-Mixed-Expert/*/*\"\n",
    "# rollout_lengths = {5, 10}\n",
    "# mopo_penalty_coeffs = {0, } #{0, 1}\n",
    "\n",
    "# CONFIG = 'walker2d_custom_rl' \n",
    "# DATASET = 'W-MIXED-RT-1' \n",
    "# model_dir_glob = \"/rds/project/rds-eWkDxBhxBrQ/dimorl/code/mopo/ray_mopo/Walker2d_W-MIXED-RT-1/*/*\"\n",
    "# # rollout_lengths = {5, 10}\n",
    "# rollout_lengths = {10,}\n",
    "# mopo_penalty_coeffs = {0, } #{0, 1}\n",
    "\n",
    "# CONFIG = 'hopper_custom_rl' \n",
    "# DATASET = 'H-MIXED-RT-1'\n",
    "# model_dir_glob = \"/rds/project/rds-eWkDxBhxBrQ/dimorl/code/mopo/ray_mopo/Hopper_H-MIXED-RT-1/*/*\"\n",
    "# rollout_lengths = {50, 100}\n",
    "# mopo_penalty_coeffs = {5, }\n",
    "\n",
    "CONFIG = 'halfcheetah_custom' \n",
    "DATASET = 'MIXED-RT-1'\n",
    "model_dir_glob = \"/rds/project/rds-eWkDxBhxBrQ/dimorl/code/mopo/ray_mopo/HalfCheetah_MIXED-RT-1/*/*\"\n",
    "rollout_lengths = {5,} #{1, 5, 20}\n",
    "mopo_penalty_coeffs = {5,}\n",
    "\n",
    "# seeds = {10, 11, 12, 13, 14, 15, 16, 17, 18, 19,}\n",
    "seeds = {16, 18}\n",
    "# seeds = {1, } \n",
    "# seeds = {2, 3} "
   ]
  },
  {
   "cell_type": "code",
   "execution_count": 42,
   "metadata": {},
   "outputs": [
    {
     "data": {
      "text/plain": [
       "['/rds/project/rds-eWkDxBhxBrQ/dimorl/code/mopo/ray_mopo/HalfCheetah_MIXED-RT-1/p2_rexb20/s38_2023-05-05_14-31-12prher67g',\n",
       " '/rds/project/rds-eWkDxBhxBrQ/dimorl/code/mopo/ray_mopo/HalfCheetah_MIXED-RT-1/pe_rexb5/s38_2023-05-05_14-31-12h2co21cm',\n",
       " '/rds/project/rds-eWkDxBhxBrQ/dimorl/code/mopo/ray_mopo/HalfCheetah_MIXED-RT-1/p1_rexb10/s38_2023-05-05_14-23-06oajg325j',\n",
       " '/rds/project/rds-eWkDxBhxBrQ/dimorl/code/mopo/ray_mopo/HalfCheetah_MIXED-RT-1/rexb20/s6_2023-03-13_21-16-515m1m92i9',\n",
       " '/rds/project/rds-eWkDxBhxBrQ/dimorl/code/mopo/ray_mopo/HalfCheetah_MIXED-RT-1/rexb20/s18_2023-04-25_18-05-54uchppeky',\n",
       " '/rds/project/rds-eWkDxBhxBrQ/dimorl/code/mopo/ray_mopo/HalfCheetah_MIXED-RT-1/p_default/s38_2023-05-06_12-30-266wmexon5',\n",
       " '/rds/project/rds-eWkDxBhxBrQ/dimorl/code/mopo/ray_mopo/HalfCheetah_MIXED-RT-1/pe_rexb20/s38_2023-05-05_14-31-120vdax5ta',\n",
       " '/rds/project/rds-eWkDxBhxBrQ/dimorl/code/mopo/ray_mopo/HalfCheetah_MIXED-RT-1/r5_rexb10/s18_2023-04-25_18-05-571romb0_q',\n",
       " '/rds/project/rds-eWkDxBhxBrQ/dimorl/code/mopo/ray_mopo/HalfCheetah_MIXED-RT-1/rb5h1_test/s5_2023-05-05_13-53-09d107llhn',\n",
       " '/rds/project/rds-eWkDxBhxBrQ/dimorl/code/mopo/ray_mopo/HalfCheetah_MIXED-RT-1/rexstdb01/s6_2023-03-13_21-16-51zp5dtmoo',\n",
       " '/rds/project/rds-eWkDxBhxBrQ/dimorl/code/mopo/ray_mopo/HalfCheetah_MIXED-RT-1/p1_rexb5/s38_2023-05-05_14-23-06htvx1wki',\n",
       " '/rds/project/rds-eWkDxBhxBrQ/dimorl/code/mopo/ray_mopo/HalfCheetah_MIXED-RT-1/pvel_default/s38_2023-05-05_14-31-1370yj6cfk',\n",
       " '/rds/project/rds-eWkDxBhxBrQ/dimorl/code/mopo/ray_mopo/HalfCheetah_MIXED-RT-1/rexmeandevb1/s6_2023-03-13_21-16-51dgn3nklk',\n",
       " '/rds/project/rds-eWkDxBhxBrQ/dimorl/code/mopo/ray_mopo/HalfCheetah_MIXED-RT-1/p1_rexb20/s38_2023-05-05_14-23-06xbb9u9mo',\n",
       " '/rds/project/rds-eWkDxBhxBrQ/dimorl/code/mopo/ray_mopo/HalfCheetah_MIXED-RT-1/rexmeandevb05/s6_2023-03-13_21-16-51g8mukbca',\n",
       " '/rds/project/rds-eWkDxBhxBrQ/dimorl/code/mopo/ray_mopo/HalfCheetah_MIXED-RT-1/rexstdb8/s6_2023-03-13_21-16-51ogf7xx5d',\n",
       " '/rds/project/rds-eWkDxBhxBrQ/dimorl/code/mopo/ray_mopo/HalfCheetah_MIXED-RT-1/rexmeandevb2/s6_2023-03-13_21-16-51toyusw1h',\n",
       " '/rds/project/rds-eWkDxBhxBrQ/dimorl/code/mopo/ray_mopo/HalfCheetah_MIXED-RT-1/pvel_rexb20/s38_2023-05-05_14-31-12wz4_g86g',\n",
       " '/rds/project/rds-eWkDxBhxBrQ/dimorl/code/mopo/ray_mopo/HalfCheetah_MIXED-RT-1/pe_default/s38_2023-05-05_14-31-12rkajoa5c',\n",
       " '/rds/project/rds-eWkDxBhxBrQ/dimorl/code/mopo/ray_mopo/HalfCheetah_MIXED-RT-1/pvel_rexb5/s38_2023-05-05_14-31-123_8w4p2m',\n",
       " '/rds/project/rds-eWkDxBhxBrQ/dimorl/code/mopo/ray_mopo/HalfCheetah_MIXED-RT-1/rexmeandevb01/s6_2023-03-13_21-16-51rjfrtgk2',\n",
       " '/rds/project/rds-eWkDxBhxBrQ/dimorl/code/mopo/ray_mopo/HalfCheetah_MIXED-RT-1/rexstdb1/s6_2023-03-13_21-16-51_foi_owr',\n",
       " '/rds/project/rds-eWkDxBhxBrQ/dimorl/code/mopo/ray_mopo/HalfCheetah_MIXED-RT-1/default_pomdp_m11/s18_2023-04-25_22-28-448d50i1xe',\n",
       " '/rds/project/rds-eWkDxBhxBrQ/dimorl/code/mopo/ray_mopo/HalfCheetah_MIXED-RT-1/r5_rexb20/s18_2023-04-25_18-05-577fwwsm67',\n",
       " '/rds/project/rds-eWkDxBhxBrQ/dimorl/code/mopo/ray_mopo/HalfCheetah_MIXED-RT-1/rexb10/s18_2023-04-25_18-05-53rkp8z3x4',\n",
       " '/rds/project/rds-eWkDxBhxBrQ/dimorl/code/mopo/ray_mopo/HalfCheetah_MIXED-RT-1/rexb10/s6_2023-03-13_21-16-51ciug6ocr',\n",
       " '/rds/project/rds-eWkDxBhxBrQ/dimorl/code/mopo/ray_mopo/HalfCheetah_MIXED-RT-1/rexstdb05/s6_2023-03-13_21-16-51gobcvtlx',\n",
       " '/rds/project/rds-eWkDxBhxBrQ/dimorl/code/mopo/ray_mopo/HalfCheetah_MIXED-RT-1/rew_rexb10/s18_2023-04-25_18-06-000j81fifr',\n",
       " '/rds/project/rds-eWkDxBhxBrQ/dimorl/code/mopo/ray_mopo/HalfCheetah_MIXED-RT-1/p_rexb5/s38_2023-05-06_12-30-26qs68xnas',\n",
       " '/rds/project/rds-eWkDxBhxBrQ/dimorl/code/mopo/ray_mopo/HalfCheetah_MIXED-RT-1/p1_default/s38_2023-05-05_14-23-06w395icp2',\n",
       " '/rds/project/rds-eWkDxBhxBrQ/dimorl/code/mopo/ray_mopo/HalfCheetah_MIXED-RT-1/p2_default/s38_2023-05-05_14-30-43yqyn8s3z',\n",
       " '/rds/project/rds-eWkDxBhxBrQ/dimorl/code/mopo/ray_mopo/HalfCheetah_MIXED-RT-1/rexb5/s18_2023-04-25_18-05-52b4honkv7',\n",
       " '/rds/project/rds-eWkDxBhxBrQ/dimorl/code/mopo/ray_mopo/HalfCheetah_MIXED-RT-1/rexb5/s6_2023-03-13_21-16-513xyv2dwt',\n",
       " '/rds/project/rds-eWkDxBhxBrQ/dimorl/code/mopo/ray_mopo/HalfCheetah_MIXED-RT-1/default/s18_2023-04-25_18-05-59kzrwddnw',\n",
       " '/rds/project/rds-eWkDxBhxBrQ/dimorl/code/mopo/ray_mopo/HalfCheetah_MIXED-RT-1/default/s6_2023-03-13_21-08-25cjd50s30',\n",
       " '/rds/project/rds-eWkDxBhxBrQ/dimorl/code/mopo/ray_mopo/HalfCheetah_MIXED-RT-1/default/s6_2023-03-13_21-16-51vg2vhn8p',\n",
       " '/rds/project/rds-eWkDxBhxBrQ/dimorl/code/mopo/ray_mopo/HalfCheetah_MIXED-RT-1/default_pomdp_025/s1_2023-04-25_22-15-0824h6a0h_',\n",
       " '/rds/project/rds-eWkDxBhxBrQ/dimorl/code/mopo/ray_mopo/HalfCheetah_MIXED-RT-1/default_pomdp_025/s1_2023-04-25_19-31-20sn6qrlc_',\n",
       " '/rds/project/rds-eWkDxBhxBrQ/dimorl/code/mopo/ray_mopo/HalfCheetah_MIXED-RT-1/default_pomdp_025/s1_2023-04-25_21-54-080soxwbhy',\n",
       " '/rds/project/rds-eWkDxBhxBrQ/dimorl/code/mopo/ray_mopo/HalfCheetah_MIXED-RT-1/default_pomdp_025/s1_2023-04-25_21-58-05zr50rt22',\n",
       " '/rds/project/rds-eWkDxBhxBrQ/dimorl/code/mopo/ray_mopo/HalfCheetah_MIXED-RT-1/default_pomdp_025/s1_2023-04-25_19-23-12lna8g0s1',\n",
       " '/rds/project/rds-eWkDxBhxBrQ/dimorl/code/mopo/ray_mopo/HalfCheetah_MIXED-RT-1/default_pomdp_025/s1_2023-04-25_19-18-318v5f3t2a',\n",
       " '/rds/project/rds-eWkDxBhxBrQ/dimorl/code/mopo/ray_mopo/HalfCheetah_MIXED-RT-1/default_pomdp_025/s1_2023-04-25_22-01-414hpjduvt',\n",
       " '/rds/project/rds-eWkDxBhxBrQ/dimorl/code/mopo/ray_mopo/HalfCheetah_MIXED-RT-1/default_pomdp_025/s1_2023-04-25_22-06-45ni3cpatm',\n",
       " '/rds/project/rds-eWkDxBhxBrQ/dimorl/code/mopo/ray_mopo/HalfCheetah_MIXED-RT-1/default_pomdp_025/s1_2023-04-25_21-56-30i8gfo404',\n",
       " '/rds/project/rds-eWkDxBhxBrQ/dimorl/code/mopo/ray_mopo/HalfCheetah_MIXED-RT-1/default_pomdp_025/s1_2023-04-25_19-26-09ex6f2k0k',\n",
       " '/rds/project/rds-eWkDxBhxBrQ/dimorl/code/mopo/ray_mopo/HalfCheetah_MIXED-RT-1/p2_rexb5/s38_2023-05-05_14-31-125r16d1z3',\n",
       " '/rds/project/rds-eWkDxBhxBrQ/dimorl/code/mopo/ray_mopo/HalfCheetah_MIXED-RT-1/p2_rexb10/s38_2023-05-05_14-31-1257swzqsn',\n",
       " '/rds/project/rds-eWkDxBhxBrQ/dimorl/code/mopo/ray_mopo/HalfCheetah_MIXED-RT-1/pvel_rexb10/s38_2023-05-05_14-31-12d39ayudn',\n",
       " '/rds/project/rds-eWkDxBhxBrQ/dimorl/code/mopo/ray_mopo/HalfCheetah_MIXED-RT-1/rew_rexb5/s18_2023-04-25_18-05-59vvctq6e4',\n",
       " '/rds/project/rds-eWkDxBhxBrQ/dimorl/code/mopo/ray_mopo/HalfCheetah_MIXED-RT-1/default_h2/s5_2023-05-05_13-57-19jihz0i0m',\n",
       " '/rds/project/rds-eWkDxBhxBrQ/dimorl/code/mopo/ray_mopo/HalfCheetah_MIXED-RT-1/default_pomdp_m1/s18_2023-04-25_22-22-08094npbqp',\n",
       " '/rds/project/rds-eWkDxBhxBrQ/dimorl/code/mopo/ray_mopo/HalfCheetah_MIXED-RT-1/r5_rexb5/s18_2023-04-25_18-05-56goxvhh45',\n",
       " '/rds/project/rds-eWkDxBhxBrQ/dimorl/code/mopo/ray_mopo/HalfCheetah_MIXED-RT-1/pe_rexb10/s38_2023-05-05_14-31-12km0__a4e',\n",
       " '/rds/project/rds-eWkDxBhxBrQ/dimorl/code/mopo/ray_mopo/HalfCheetah_MIXED-RT-1/rexstdb2/s6_2023-03-13_21-16-51rvwza6li',\n",
       " '/rds/project/rds-eWkDxBhxBrQ/dimorl/code/mopo/ray_mopo/HalfCheetah_MIXED-RT-1/rew_rexb20/s18_2023-04-25_18-06-015fj2l6kv']"
      ]
     },
     "execution_count": 42,
     "metadata": {},
     "output_type": "execute_result"
    }
   ],
   "source": [
    "dir_list = glob(model_dir_glob, recursive = True)\n",
    "\n",
    "def filter_dir(x):\n",
    "    last = x.split('/')[-1]\n",
    "    return last.startswith('s') \n",
    "\n",
    "with_s = list(filter(filter_dir, dir_list))\n",
    "with_s"
   ]
  },
  {
   "cell_type": "code",
   "execution_count": 43,
   "metadata": {},
   "outputs": [
    {
     "data": {
      "text/plain": [
       "['HalfCheetah_MIXED-RT-1/p2_rexb20/s38_2023-05-05_14-31-12prher67g',\n",
       " 'HalfCheetah_MIXED-RT-1/pe_rexb5/s38_2023-05-05_14-31-12h2co21cm',\n",
       " 'HalfCheetah_MIXED-RT-1/p1_rexb10/s38_2023-05-05_14-23-06oajg325j',\n",
       " 'HalfCheetah_MIXED-RT-1/rexb20/s6_2023-03-13_21-16-515m1m92i9',\n",
       " 'HalfCheetah_MIXED-RT-1/rexb20/s18_2023-04-25_18-05-54uchppeky',\n",
       " 'HalfCheetah_MIXED-RT-1/p_default/s38_2023-05-06_12-30-266wmexon5',\n",
       " 'HalfCheetah_MIXED-RT-1/pe_rexb20/s38_2023-05-05_14-31-120vdax5ta',\n",
       " 'HalfCheetah_MIXED-RT-1/r5_rexb10/s18_2023-04-25_18-05-571romb0_q',\n",
       " 'HalfCheetah_MIXED-RT-1/rb5h1_test/s5_2023-05-05_13-53-09d107llhn',\n",
       " 'HalfCheetah_MIXED-RT-1/rexstdb01/s6_2023-03-13_21-16-51zp5dtmoo',\n",
       " 'HalfCheetah_MIXED-RT-1/p1_rexb5/s38_2023-05-05_14-23-06htvx1wki',\n",
       " 'HalfCheetah_MIXED-RT-1/pvel_default/s38_2023-05-05_14-31-1370yj6cfk',\n",
       " 'HalfCheetah_MIXED-RT-1/rexmeandevb1/s6_2023-03-13_21-16-51dgn3nklk',\n",
       " 'HalfCheetah_MIXED-RT-1/p1_rexb20/s38_2023-05-05_14-23-06xbb9u9mo',\n",
       " 'HalfCheetah_MIXED-RT-1/rexmeandevb05/s6_2023-03-13_21-16-51g8mukbca',\n",
       " 'HalfCheetah_MIXED-RT-1/rexstdb8/s6_2023-03-13_21-16-51ogf7xx5d',\n",
       " 'HalfCheetah_MIXED-RT-1/rexmeandevb2/s6_2023-03-13_21-16-51toyusw1h',\n",
       " 'HalfCheetah_MIXED-RT-1/pvel_rexb20/s38_2023-05-05_14-31-12wz4_g86g',\n",
       " 'HalfCheetah_MIXED-RT-1/pe_default/s38_2023-05-05_14-31-12rkajoa5c',\n",
       " 'HalfCheetah_MIXED-RT-1/pvel_rexb5/s38_2023-05-05_14-31-123_8w4p2m',\n",
       " 'HalfCheetah_MIXED-RT-1/rexmeandevb01/s6_2023-03-13_21-16-51rjfrtgk2',\n",
       " 'HalfCheetah_MIXED-RT-1/rexstdb1/s6_2023-03-13_21-16-51_foi_owr',\n",
       " 'HalfCheetah_MIXED-RT-1/default_pomdp_m11/s18_2023-04-25_22-28-448d50i1xe',\n",
       " 'HalfCheetah_MIXED-RT-1/r5_rexb20/s18_2023-04-25_18-05-577fwwsm67',\n",
       " 'HalfCheetah_MIXED-RT-1/rexb10/s18_2023-04-25_18-05-53rkp8z3x4',\n",
       " 'HalfCheetah_MIXED-RT-1/rexb10/s6_2023-03-13_21-16-51ciug6ocr',\n",
       " 'HalfCheetah_MIXED-RT-1/rexstdb05/s6_2023-03-13_21-16-51gobcvtlx',\n",
       " 'HalfCheetah_MIXED-RT-1/rew_rexb10/s18_2023-04-25_18-06-000j81fifr',\n",
       " 'HalfCheetah_MIXED-RT-1/p_rexb5/s38_2023-05-06_12-30-26qs68xnas',\n",
       " 'HalfCheetah_MIXED-RT-1/p1_default/s38_2023-05-05_14-23-06w395icp2',\n",
       " 'HalfCheetah_MIXED-RT-1/p2_default/s38_2023-05-05_14-30-43yqyn8s3z',\n",
       " 'HalfCheetah_MIXED-RT-1/rexb5/s18_2023-04-25_18-05-52b4honkv7',\n",
       " 'HalfCheetah_MIXED-RT-1/rexb5/s6_2023-03-13_21-16-513xyv2dwt',\n",
       " 'HalfCheetah_MIXED-RT-1/default/s18_2023-04-25_18-05-59kzrwddnw',\n",
       " 'HalfCheetah_MIXED-RT-1/default/s6_2023-03-13_21-08-25cjd50s30',\n",
       " 'HalfCheetah_MIXED-RT-1/default/s6_2023-03-13_21-16-51vg2vhn8p',\n",
       " 'HalfCheetah_MIXED-RT-1/default_pomdp_025/s1_2023-04-25_22-15-0824h6a0h_',\n",
       " 'HalfCheetah_MIXED-RT-1/default_pomdp_025/s1_2023-04-25_19-31-20sn6qrlc_',\n",
       " 'HalfCheetah_MIXED-RT-1/default_pomdp_025/s1_2023-04-25_21-54-080soxwbhy',\n",
       " 'HalfCheetah_MIXED-RT-1/default_pomdp_025/s1_2023-04-25_21-58-05zr50rt22',\n",
       " 'HalfCheetah_MIXED-RT-1/default_pomdp_025/s1_2023-04-25_19-23-12lna8g0s1',\n",
       " 'HalfCheetah_MIXED-RT-1/default_pomdp_025/s1_2023-04-25_19-18-318v5f3t2a',\n",
       " 'HalfCheetah_MIXED-RT-1/default_pomdp_025/s1_2023-04-25_22-01-414hpjduvt',\n",
       " 'HalfCheetah_MIXED-RT-1/default_pomdp_025/s1_2023-04-25_22-06-45ni3cpatm',\n",
       " 'HalfCheetah_MIXED-RT-1/default_pomdp_025/s1_2023-04-25_21-56-30i8gfo404',\n",
       " 'HalfCheetah_MIXED-RT-1/default_pomdp_025/s1_2023-04-25_19-26-09ex6f2k0k',\n",
       " 'HalfCheetah_MIXED-RT-1/p2_rexb5/s38_2023-05-05_14-31-125r16d1z3',\n",
       " 'HalfCheetah_MIXED-RT-1/p2_rexb10/s38_2023-05-05_14-31-1257swzqsn',\n",
       " 'HalfCheetah_MIXED-RT-1/pvel_rexb10/s38_2023-05-05_14-31-12d39ayudn',\n",
       " 'HalfCheetah_MIXED-RT-1/rew_rexb5/s18_2023-04-25_18-05-59vvctq6e4',\n",
       " 'HalfCheetah_MIXED-RT-1/default_h2/s5_2023-05-05_13-57-19jihz0i0m',\n",
       " 'HalfCheetah_MIXED-RT-1/default_pomdp_m1/s18_2023-04-25_22-22-08094npbqp',\n",
       " 'HalfCheetah_MIXED-RT-1/r5_rexb5/s18_2023-04-25_18-05-56goxvhh45',\n",
       " 'HalfCheetah_MIXED-RT-1/pe_rexb10/s38_2023-05-05_14-31-12km0__a4e',\n",
       " 'HalfCheetah_MIXED-RT-1/rexstdb2/s6_2023-03-13_21-16-51rvwza6li',\n",
       " 'HalfCheetah_MIXED-RT-1/rew_rexb20/s18_2023-04-25_18-06-015fj2l6kv']"
      ]
     },
     "execution_count": 43,
     "metadata": {},
     "output_type": "execute_result"
    }
   ],
   "source": [
    "dir_list = glob(model_dir_glob, recursive = True)\n",
    "\n",
    "def filter_dir(x):\n",
    "    last = x.split('/')[-1]\n",
    "    return last.startswith('s') \n",
    "\n",
    "with_s = list(filter(filter_dir, dir_list))\n",
    "with_s = [\"/\".join(model_dir.split('/')[-3:])for model_dir in with_s]\n",
    "model_load_dirs = with_s\n",
    "with_s"
   ]
  },
  {
   "cell_type": "code",
   "execution_count": 44,
   "metadata": {},
   "outputs": [],
   "source": [
    "# model_load_dirs = [mld for mld in  model_load_dirs if mld.split('/')[-2] in ['rexb5-ra', 'rexb10-ra', 'rexb20-ra', 'rexb5-check']]\n",
    "# model_load_dirs = [mld for mld in  model_load_dirs if mld.split('/')[-2] in \n",
    "#                    ['default-512', ]]\n",
    "\n",
    "# model_load_dirs = [mld for mld in  model_load_dirs if mld.split('/')[-2] in \n",
    "#                    ['rexb5-check-6', 'rexb5-check', 'default-check2', 'default-check']]\n",
    "\n",
    "model_load_dirs = [mld for mld in model_load_dirs if 'default/s18' in mld]\n",
    "# model_load_dirs = [mld for mld in  model_load_dirs if '/p_' in mld or 'default/s18' in mld]\n",
    "\n",
    "\n",
    "# model_load_dirs = [mld for mld in  model_load_dirs if '/s6_' in mld and ('rp5_' in mld or 'rp_' in mld) and 'std' not in mld]\n",
    "# model_load_dirs"
   ]
  },
  {
   "cell_type": "code",
   "execution_count": 45,
   "metadata": {},
   "outputs": [
    {
     "data": {
      "text/plain": [
       "['HalfCheetah_MIXED-RT-1/default/s18_2023-04-25_18-05-59kzrwddnw']"
      ]
     },
     "execution_count": 45,
     "metadata": {},
     "output_type": "execute_result"
    }
   ],
   "source": [
    "model_load_dirs"
   ]
  },
  {
   "cell_type": "code",
   "execution_count": 46,
   "metadata": {},
   "outputs": [],
   "source": [
    "list_to_dump = []\n",
    "\n",
    "for mld in model_load_dirs:\n",
    "    bnn_name = mld.split('/')[-2]\n",
    "    bnn_seed = mld.split('/')[-1].split('_')[0]\n",
    "    for rl in rollout_lengths:\n",
    "        for mp in mopo_penalty_coeffs:\n",
    "            for seed in seeds:\n",
    "                exp_name = f'{bnn_name}{bnn_seed}_mp{mp}rl{rl}'\n",
    "                list_to_dump.append(dict(config=CONFIG, dataset=DATASET, rollout_length=rl, mopo_penalty_coeff=mp,\n",
    "                                    seed=seed, model_load_dir=mld, exp_name=exp_name, train_bnn_only=0)) \n",
    "dataset = f\"{DATASET}_p1618_rex_exp_params.json\"\n",
    "with open(dataset, \"w\") as outfile:\n",
    "    json.dump(list_to_dump, outfile, indent=\"\")"
   ]
  },
  {
   "cell_type": "code",
   "execution_count": 47,
   "metadata": {},
   "outputs": [
    {
     "data": {
      "text/plain": [
       "'MIXED-RT-1_p1618_rex_exp_params.json'"
      ]
     },
     "execution_count": 47,
     "metadata": {},
     "output_type": "execute_result"
    }
   ],
   "source": [
    "dataset"
   ]
  },
  {
   "cell_type": "code",
   "execution_count": null,
   "metadata": {},
   "outputs": [],
   "source": []
  },
  {
   "cell_type": "code",
   "execution_count": null,
   "metadata": {},
   "outputs": [],
   "source": []
  }
 ],
 "metadata": {
  "kernelspec": {
   "display_name": "Python 3",
   "language": "python",
   "name": "python3"
  },
  "language_info": {
   "codemirror_mode": {
    "name": "ipython",
    "version": 3
   },
   "file_extension": ".py",
   "mimetype": "text/x-python",
   "name": "python",
   "nbconvert_exporter": "python",
   "pygments_lexer": "ipython3",
   "version": "3.6.5"
  }
 },
 "nbformat": 4,
 "nbformat_minor": 4
}
