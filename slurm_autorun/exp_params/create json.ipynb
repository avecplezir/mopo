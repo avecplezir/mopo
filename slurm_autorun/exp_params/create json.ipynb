{
 "cells": [
  {
   "cell_type": "code",
   "execution_count": 35,
   "metadata": {},
   "outputs": [],
   "source": [
    "import json\n",
    "from glob import glob"
   ]
  },
  {
   "cell_type": "code",
   "execution_count": 95,
   "metadata": {},
   "outputs": [],
   "source": [
    "# CONFIG = 'hopper_custom_rl' \n",
    "# DATASET = 'H-MIXED-RT-4'\n",
    "# model_dir_glob = \"/rds/project/rds-eWkDxBhxBrQ/dimorl/code/mopo/ray_mopo/Hopper_H-MIXED-RT-4/*/*\"\n",
    "# rollout_lengths = {1, 5, 50}\n",
    "\n",
    "# CONFIG = 'halfcheetah_custom_rl' \n",
    "# DATASET = 'MIXED-RT-1'\n",
    "# model_dir_glob = \"/rds/project/rds-eWkDxBhxBrQ/dimorl/code/mopo/ray_mopo/HalfCheetah_MIXED-RT-1/*/*\"\n",
    "# rollout_lengths = {5, 10} #{1, 5, 20}\n",
    "# mopo_penalty_coeffs = {0, 5}\n",
    "\n",
    "# CONFIG = 'halfcheetah_custom_rl' \n",
    "# DATASET = 'MIXED-RT-4'\n",
    "# model_dir_glob = \"/rds/project/rds-eWkDxBhxBrQ/dimorl/code/mopo/ray_mopo/HalfCheetah_MIXED-RT-4/*/*\"\n",
    "# rollout_lengths = {10, } #{5, 10} #{1, 5, 20}\n",
    "# mopo_penalty_coeffs = {5,} #{0, 5}\n",
    "\n",
    "# CONFIG = 'walker2d_custom_rl' \n",
    "# DATASET = 'W-MIXED-RT-1' \n",
    "# model_dir_glob = \"/rds/project/rds-eWkDxBhxBrQ/dimorl/code/mopo/ray_mopo/Walker2d_W-MIXED-RT-1/*/*\"\n",
    "# rollout_lengths = {5, 10}\n",
    "# mopo_penalty_coeffs = {0, } #{0, 1}\n",
    "\n",
    "# CONFIG = 'walker2d_custom_rl' \n",
    "# DATASET = 'W-MIXED-RT-4' \n",
    "# model_dir_glob = \"/rds/project/rds-eWkDxBhxBrQ/dimorl/code/mopo/ray_mopo/Walker2d_W-MIXED-RT-4/*/*\"\n",
    "# rollout_lengths = {5, 10}\n",
    "# mopo_penalty_coeffs = {0, } #{0, 1}\n",
    "\n",
    "CONFIG = 'walker2d_custom_rl' \n",
    "DATASET = 'W-MIXED-RT-5' \n",
    "model_dir_glob = \"/rds/project/rds-eWkDxBhxBrQ/dimorl/code/mopo/ray_mopo/Walker2d_W-MIXED-RT-5/*/*\"\n",
    "rollout_lengths = {5, 10}\n",
    "mopo_penalty_coeffs = {0, } #{0, 1}\n",
    "\n",
    "# mopo_penalty_coeffs = {0, 1, 5}\n",
    "seeds = {1, 2, 3}\n",
    "# seeds = {1,}"
   ]
  },
  {
   "cell_type": "code",
   "execution_count": 96,
   "metadata": {},
   "outputs": [
    {
     "data": {
      "text/plain": [
       "['/rds/project/rds-eWkDxBhxBrQ/dimorl/code/mopo/ray_mopo/Walker2d_W-MIXED-RT-5/rp_rexb5/s6_2023-03-14_13-09-13y2aszxw1',\n",
       " '/rds/project/rds-eWkDxBhxBrQ/dimorl/code/mopo/ray_mopo/Walker2d_W-MIXED-RT-5/rexb20/s6_2023-03-14_00-33-00y50nod3y',\n",
       " '/rds/project/rds-eWkDxBhxBrQ/dimorl/code/mopo/ray_mopo/Walker2d_W-MIXED-RT-5/rp5_rexb20/s6_2023-03-14_13-23-10sipvheq8',\n",
       " '/rds/project/rds-eWkDxBhxBrQ/dimorl/code/mopo/ray_mopo/Walker2d_W-MIXED-RT-5/rexstdb01/s6_2023-03-14_00-37-16v4fac2fw',\n",
       " '/rds/project/rds-eWkDxBhxBrQ/dimorl/code/mopo/ray_mopo/Walker2d_W-MIXED-RT-5/rp5_stdb01/s6_2023-03-14_09-06-09mlgpoojz',\n",
       " '/rds/project/rds-eWkDxBhxBrQ/dimorl/code/mopo/ray_mopo/Walker2d_W-MIXED-RT-5/rexmeandevb1/s6_2023-03-14_01-17-49noaj1cj0',\n",
       " '/rds/project/rds-eWkDxBhxBrQ/dimorl/code/mopo/ray_mopo/Walker2d_W-MIXED-RT-5/rp5_stdb05/s6_2023-03-14_09-06-09p11s0by6',\n",
       " '/rds/project/rds-eWkDxBhxBrQ/dimorl/code/mopo/ray_mopo/Walker2d_W-MIXED-RT-5/rexmeandevb05/s6_2023-03-14_01-21-33les85a1b',\n",
       " '/rds/project/rds-eWkDxBhxBrQ/dimorl/code/mopo/ray_mopo/Walker2d_W-MIXED-RT-5/rexstdb8/s1_2023-03-14_10-20-5455v4jogy',\n",
       " '/rds/project/rds-eWkDxBhxBrQ/dimorl/code/mopo/ray_mopo/Walker2d_W-MIXED-RT-5/rexstdb8/s6_2023-03-14_00-37-16yhx7org8',\n",
       " '/rds/project/rds-eWkDxBhxBrQ/dimorl/code/mopo/ray_mopo/Walker2d_W-MIXED-RT-5/rexmeandevb2/s6_2023-03-14_01-21-301d_sa26u',\n",
       " '/rds/project/rds-eWkDxBhxBrQ/dimorl/code/mopo/ray_mopo/Walker2d_W-MIXED-RT-5/rp5_stdb8/s6_2023-03-14_09-06-09ag1yhl9f',\n",
       " '/rds/project/rds-eWkDxBhxBrQ/dimorl/code/mopo/ray_mopo/Walker2d_W-MIXED-RT-5/meandevb8/s1_2023-03-14_10-23-437uthnq43',\n",
       " '/rds/project/rds-eWkDxBhxBrQ/dimorl/code/mopo/ray_mopo/Walker2d_W-MIXED-RT-5/rp_stdb1/s6_2023-03-14_10-30-448lebdxw0',\n",
       " '/rds/project/rds-eWkDxBhxBrQ/dimorl/code/mopo/ray_mopo/Walker2d_W-MIXED-RT-5/rp5_rexb5/s6_2023-03-14_13-23-06mvy2i3in',\n",
       " '/rds/project/rds-eWkDxBhxBrQ/dimorl/code/mopo/ray_mopo/Walker2d_W-MIXED-RT-5/rexmeandevb01/s6_2023-03-14_01-17-10tic8bhky',\n",
       " '/rds/project/rds-eWkDxBhxBrQ/dimorl/code/mopo/ray_mopo/Walker2d_W-MIXED-RT-5/rexstdb1/s6_2023-03-14_00-37-09a3yfomjf',\n",
       " '/rds/project/rds-eWkDxBhxBrQ/dimorl/code/mopo/ray_mopo/Walker2d_W-MIXED-RT-5/rp_stdb05/s6_2023-03-14_10-30-506no2kwt2',\n",
       " '/rds/project/rds-eWkDxBhxBrQ/dimorl/code/mopo/ray_mopo/Walker2d_W-MIXED-RT-5/rexb10/s6_2023-03-14_00-33-01rqay1an_',\n",
       " '/rds/project/rds-eWkDxBhxBrQ/dimorl/code/mopo/ray_mopo/Walker2d_W-MIXED-RT-5/rexstdb05/s6_2023-03-14_00-37-11g9eff38k',\n",
       " '/rds/project/rds-eWkDxBhxBrQ/dimorl/code/mopo/ray_mopo/Walker2d_W-MIXED-RT-5/rp_stdb01/s6_2023-03-14_10-30-50ooj_7hs2',\n",
       " '/rds/project/rds-eWkDxBhxBrQ/dimorl/code/mopo/ray_mopo/Walker2d_W-MIXED-RT-5/rp5_stdb2/s6_2023-03-14_09-06-093w3cr3m_',\n",
       " '/rds/project/rds-eWkDxBhxBrQ/dimorl/code/mopo/ray_mopo/Walker2d_W-MIXED-RT-5/rp5_stdb1/s6_2023-03-14_09-05-55mfqcgs1b',\n",
       " '/rds/project/rds-eWkDxBhxBrQ/dimorl/code/mopo/ray_mopo/Walker2d_W-MIXED-RT-5/rexb5/s6_2023-03-14_00-29-549c9l64o0',\n",
       " '/rds/project/rds-eWkDxBhxBrQ/dimorl/code/mopo/ray_mopo/Walker2d_W-MIXED-RT-5/default/s6_2023-03-14_00-29-54qxgue7hg',\n",
       " '/rds/project/rds-eWkDxBhxBrQ/dimorl/code/mopo/ray_mopo/Walker2d_W-MIXED-RT-5/rp_stdb8/s6_2023-03-14_10-30-5091_d8v9k',\n",
       " '/rds/project/rds-eWkDxBhxBrQ/dimorl/code/mopo/ray_mopo/Walker2d_W-MIXED-RT-5/rp5_rexb10/s6_2023-03-14_13-23-08dc_9_fvj',\n",
       " '/rds/project/rds-eWkDxBhxBrQ/dimorl/code/mopo/ray_mopo/Walker2d_W-MIXED-RT-5/rp_rexb20/s6_2023-03-14_13-09-13zt9fxbcv',\n",
       " '/rds/project/rds-eWkDxBhxBrQ/dimorl/code/mopo/ray_mopo/Walker2d_W-MIXED-RT-5/rp_stdb2/s6_2023-03-14_10-30-50nr3dwvn7',\n",
       " '/rds/project/rds-eWkDxBhxBrQ/dimorl/code/mopo/ray_mopo/Walker2d_W-MIXED-RT-5/rp_rexb10/s6_2023-03-14_13-09-13p76kxoh0',\n",
       " '/rds/project/rds-eWkDxBhxBrQ/dimorl/code/mopo/ray_mopo/Walker2d_W-MIXED-RT-5/rexstdb2/s6_2023-03-14_00-37-16gylvapuh']"
      ]
     },
     "execution_count": 96,
     "metadata": {},
     "output_type": "execute_result"
    }
   ],
   "source": [
    "dir_list = glob(model_dir_glob, recursive = True)\n",
    "\n",
    "def filter_dir(x):\n",
    "    last = x.split('/')[-1]\n",
    "    return last.startswith('s') \n",
    "\n",
    "with_s = list(filter(filter_dir, dir_list))\n",
    "with_s"
   ]
  },
  {
   "cell_type": "code",
   "execution_count": 97,
   "metadata": {},
   "outputs": [
    {
     "data": {
      "text/plain": [
       "['Walker2d_W-MIXED-RT-5/rp_rexb5/s6_2023-03-14_13-09-13y2aszxw1',\n",
       " 'Walker2d_W-MIXED-RT-5/rexb20/s6_2023-03-14_00-33-00y50nod3y',\n",
       " 'Walker2d_W-MIXED-RT-5/rp5_rexb20/s6_2023-03-14_13-23-10sipvheq8',\n",
       " 'Walker2d_W-MIXED-RT-5/rexstdb01/s6_2023-03-14_00-37-16v4fac2fw',\n",
       " 'Walker2d_W-MIXED-RT-5/rp5_stdb01/s6_2023-03-14_09-06-09mlgpoojz',\n",
       " 'Walker2d_W-MIXED-RT-5/rexmeandevb1/s6_2023-03-14_01-17-49noaj1cj0',\n",
       " 'Walker2d_W-MIXED-RT-5/rp5_stdb05/s6_2023-03-14_09-06-09p11s0by6',\n",
       " 'Walker2d_W-MIXED-RT-5/rexmeandevb05/s6_2023-03-14_01-21-33les85a1b',\n",
       " 'Walker2d_W-MIXED-RT-5/rexstdb8/s1_2023-03-14_10-20-5455v4jogy',\n",
       " 'Walker2d_W-MIXED-RT-5/rexstdb8/s6_2023-03-14_00-37-16yhx7org8',\n",
       " 'Walker2d_W-MIXED-RT-5/rexmeandevb2/s6_2023-03-14_01-21-301d_sa26u',\n",
       " 'Walker2d_W-MIXED-RT-5/rp5_stdb8/s6_2023-03-14_09-06-09ag1yhl9f',\n",
       " 'Walker2d_W-MIXED-RT-5/meandevb8/s1_2023-03-14_10-23-437uthnq43',\n",
       " 'Walker2d_W-MIXED-RT-5/rp_stdb1/s6_2023-03-14_10-30-448lebdxw0',\n",
       " 'Walker2d_W-MIXED-RT-5/rp5_rexb5/s6_2023-03-14_13-23-06mvy2i3in',\n",
       " 'Walker2d_W-MIXED-RT-5/rexmeandevb01/s6_2023-03-14_01-17-10tic8bhky',\n",
       " 'Walker2d_W-MIXED-RT-5/rexstdb1/s6_2023-03-14_00-37-09a3yfomjf',\n",
       " 'Walker2d_W-MIXED-RT-5/rp_stdb05/s6_2023-03-14_10-30-506no2kwt2',\n",
       " 'Walker2d_W-MIXED-RT-5/rexb10/s6_2023-03-14_00-33-01rqay1an_',\n",
       " 'Walker2d_W-MIXED-RT-5/rexstdb05/s6_2023-03-14_00-37-11g9eff38k',\n",
       " 'Walker2d_W-MIXED-RT-5/rp_stdb01/s6_2023-03-14_10-30-50ooj_7hs2',\n",
       " 'Walker2d_W-MIXED-RT-5/rp5_stdb2/s6_2023-03-14_09-06-093w3cr3m_',\n",
       " 'Walker2d_W-MIXED-RT-5/rp5_stdb1/s6_2023-03-14_09-05-55mfqcgs1b',\n",
       " 'Walker2d_W-MIXED-RT-5/rexb5/s6_2023-03-14_00-29-549c9l64o0',\n",
       " 'Walker2d_W-MIXED-RT-5/default/s6_2023-03-14_00-29-54qxgue7hg',\n",
       " 'Walker2d_W-MIXED-RT-5/rp_stdb8/s6_2023-03-14_10-30-5091_d8v9k',\n",
       " 'Walker2d_W-MIXED-RT-5/rp5_rexb10/s6_2023-03-14_13-23-08dc_9_fvj',\n",
       " 'Walker2d_W-MIXED-RT-5/rp_rexb20/s6_2023-03-14_13-09-13zt9fxbcv',\n",
       " 'Walker2d_W-MIXED-RT-5/rp_stdb2/s6_2023-03-14_10-30-50nr3dwvn7',\n",
       " 'Walker2d_W-MIXED-RT-5/rp_rexb10/s6_2023-03-14_13-09-13p76kxoh0',\n",
       " 'Walker2d_W-MIXED-RT-5/rexstdb2/s6_2023-03-14_00-37-16gylvapuh']"
      ]
     },
     "execution_count": 97,
     "metadata": {},
     "output_type": "execute_result"
    }
   ],
   "source": [
    "dir_list = glob(model_dir_glob, recursive = True)\n",
    "\n",
    "def filter_dir(x):\n",
    "    last = x.split('/')[-1]\n",
    "    return last.startswith('s') \n",
    "\n",
    "with_s = list(filter(filter_dir, dir_list))\n",
    "with_s = [\"/\".join(model_dir.split('/')[-3:])for model_dir in with_s]\n",
    "model_load_dirs = with_s\n",
    "with_s"
   ]
  },
  {
   "cell_type": "code",
   "execution_count": 98,
   "metadata": {},
   "outputs": [
    {
     "data": {
      "text/plain": [
       "['Walker2d_W-MIXED-RT-5/rp_rexb5/s6_2023-03-14_13-09-13y2aszxw1',\n",
       " 'Walker2d_W-MIXED-RT-5/rp5_rexb20/s6_2023-03-14_13-23-10sipvheq8',\n",
       " 'Walker2d_W-MIXED-RT-5/rp5_rexb5/s6_2023-03-14_13-23-06mvy2i3in',\n",
       " 'Walker2d_W-MIXED-RT-5/rp5_rexb10/s6_2023-03-14_13-23-08dc_9_fvj',\n",
       " 'Walker2d_W-MIXED-RT-5/rp_rexb20/s6_2023-03-14_13-09-13zt9fxbcv',\n",
       " 'Walker2d_W-MIXED-RT-5/rp_rexb10/s6_2023-03-14_13-09-13p76kxoh0']"
      ]
     },
     "execution_count": 98,
     "metadata": {},
     "output_type": "execute_result"
    }
   ],
   "source": [
    "# model_load_dirs = [mld for mld in  model_load_dirs if '/s6_' in mld and 'rp5_' not in mld and 'rp_' not in mld ]\n",
    "model_load_dirs = [mld for mld in  model_load_dirs if '/s6_' in mld and ('rp5_' in mld or 'rp_' in mld) and 'std' not in mld]\n",
    "model_load_dirs"
   ]
  },
  {
   "cell_type": "code",
   "execution_count": 99,
   "metadata": {},
   "outputs": [],
   "source": [
    "# model_load_dirs = ['HalfCheetah_MIXED-RT-5/default/s1_2023-03-06_11-13-45xh8hsuja']"
   ]
  },
  {
   "cell_type": "code",
   "execution_count": 100,
   "metadata": {},
   "outputs": [],
   "source": [
    "list_to_dump = []\n",
    "\n",
    "for mld in model_load_dirs:\n",
    "    bnn_name = mld.split('/')[-2]\n",
    "    bnn_seed = mld.split('/')[-1].split('_')[0]\n",
    "    for rl in rollout_lengths:\n",
    "        for mp in mopo_penalty_coeffs:\n",
    "            for seed in seeds:\n",
    "                exp_name = f'{bnn_name}{bnn_seed}_mp{mp}rl{rl}'\n",
    "                list_to_dump.append(dict(config=CONFIG, dataset=DATASET, rollout_length=rl, mopo_penalty_coeff=mp,\n",
    "                                    seed=seed, model_load_dir=mld, exp_name=exp_name)) \n",
    "\n",
    "with open(f\"{DATASET}_rrex_exp_params.json\", \"w\") as outfile:\n",
    "    json.dump(list_to_dump, outfile, indent=\"\")"
   ]
  },
  {
   "cell_type": "code",
   "execution_count": 101,
   "metadata": {},
   "outputs": [
    {
     "data": {
      "text/plain": [
       "'W-MIXED-RT-5_rrex_exp_params.json'"
      ]
     },
     "execution_count": 101,
     "metadata": {},
     "output_type": "execute_result"
    }
   ],
   "source": [
    "f\"{DATASET}_rrex_exp_params.json\""
   ]
  },
  {
   "cell_type": "code",
   "execution_count": null,
   "metadata": {},
   "outputs": [],
   "source": []
  }
 ],
 "metadata": {
  "kernelspec": {
   "display_name": "Python 3",
   "language": "python",
   "name": "python3"
  },
  "language_info": {
   "codemirror_mode": {
    "name": "ipython",
    "version": 3
   },
   "file_extension": ".py",
   "mimetype": "text/x-python",
   "name": "python",
   "nbconvert_exporter": "python",
   "pygments_lexer": "ipython3",
   "version": "3.6.5"
  }
 },
 "nbformat": 4,
 "nbformat_minor": 4
}
